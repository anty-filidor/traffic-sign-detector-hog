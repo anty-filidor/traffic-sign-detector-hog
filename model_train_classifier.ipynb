{
 "cells": [
  {
   "cell_type": "code",
   "execution_count": 3,
   "outputs": [
    {
     "name": "stdout",
     "text": [
      "\n \u001b[32mEXECUTED BLOCK AT 0:15:52\u001b[0m\n"
     ],
     "output_type": "stream"
    }
   ],
   "source": [
    "from sklearn.svm import SVC\n",
    "from sklearn.preprocessing import StandardScaler\n",
    "from sklearn.model_selection import train_test_split\n",
    "from sklearn.model_selection import ShuffleSplit\n",
    "from sklearn.metrics import classification_report\n",
    "from sklearn.metrics import confusion_matrix\n",
    "\n",
    "from sklearn.externals import joblib\n",
    "import random as rand\n",
    "import numpy as np\n",
    "from tsr_helpers import print_executed\n",
    "from tsr_helpers import plot_learning_curve\n",
    "import datetime\n",
    "import warnings\n",
    "\n",
    "print_executed()\n"
   ],
   "metadata": {
    "collapsed": false,
    "pycharm": {
     "name": "#%%\n",
     "is_executing": false
    }
   }
  },
  {
   "cell_type": "code",
   "execution_count": 4,
   "metadata": {
    "pycharm": {
     "is_executing": false
    }
   },
   "outputs": [
    {
     "name": "stdout",
     "text": [
      "\n \u001b[32mEXECUTED BLOCK AT 0:15:56\u001b[0m\n"
     ],
     "output_type": "stream"
    }
   ],
   "source": [
    "# load positive features\n",
    "# for binary classification load only one features array or merge to one array\n",
    "positive_features_a = np.load('dataset/extracted_features/positive_features_a.npy')\n",
    "positive_features_b = np.load('dataset/extracted_features/positive_features_b.npy')\n",
    "positive_features_c = np.load('dataset/extracted_features/positive_features_c.npy')\n",
    "positive_features_d = np.load('dataset/extracted_features/positive_features_d.npy')\n",
    "\n",
    "# load negative features\n",
    "negative_features = np.load('dataset/extracted_features/negative_features_improved.npy')\n",
    "# negative_features_road = np.load('dataset/extracted_features/negative_features_road.npy')\n",
    "# negative_features_kitti = np.load('dataset/extracted_features/negative_features_KITTI_extracted.npy')\n",
    "\n",
    "# concatenate negative features\n",
    "# negative_features = np.concatenate((negative_features, negative_features_kitti, negative_features_road),\n",
    "#                                    axis=0)\n",
    "# uncomment if binary classification\n",
    "positive_features = np.concatenate((positive_features_a, positive_features_b, positive_features_c, \n",
    "                                    positive_features_d), axis=0)\n",
    "\n",
    "# stratify dataset\n",
    "# uncomment if binary classification\n",
    "np.random.shuffle(positive_features)\n",
    "'''\n",
    "np.random.shuffle(positive_features_a)\n",
    "np.random.shuffle(positive_features_b)\n",
    "np.random.shuffle(positive_features_c)\n",
    "np.random.shuffle(positive_features_d)\n",
    "'''\n",
    "np.random.shuffle(negative_features)\n",
    "\n",
    "number_of_samples = 10000\n",
    "\n",
    "# uncomment if binary classification\n",
    "positive_features = positive_features[:number_of_samples]\n",
    "'''\n",
    "positive_features_a = positive_features_a[:number_of_samples]\n",
    "positive_features_b = positive_features_b[:number_of_samples]\n",
    "positive_features_c = positive_features_c[:number_of_samples]\n",
    "positive_features_d = positive_features_d[:number_of_samples]\n",
    "'''\n",
    "negative_features = negative_features[:number_of_samples]\n",
    "\n",
    "'''\n",
    "total_signs_a = positive_features_a.shape[0]\n",
    "total_signs_b = positive_features_b.shape[0]\n",
    "total_signs_c = positive_features_c.shape[0]\n",
    "total_signs_d = positive_features_d.shape[0]\n",
    "'''\n",
    "total_signs = positive_features.shape[0]\n",
    "total_nonsigns = negative_features.shape[0]\n",
    "\n",
    "print_executed()"
   ]
  },
  {
   "cell_type": "code",
   "execution_count": 5,
   "outputs": [
    {
     "name": "stdout",
     "text": [
      "Scaling features...\n\nSigns type a:  11130 750\nSigns type b:  20340 750\nSigns type c:  5639 750\nSigns type d:  2100 750\nSigns type d:  2100 750\n\nNonsigns GTSDB:  10000 750\n\nNonsigns at all:  10000 750\nSigns at all:  10000 10000\n",
      " x shape:  (20000, 750)  y shape:  (20000,)\n\n \u001b[32mEXECUTED BLOCK AT 0:16:19\u001b[0m\n"
     ],
     "output_type": "stream"
    }
   ],
   "source": [
    "print(\"Scaling features...\")\n",
    "print(\"\\nSigns type a: \", len(positive_features_a), len(positive_features_a[0]))\n",
    "print(\"Signs type b: \", len(positive_features_b), len(positive_features_b[0]))\n",
    "print(\"Signs type c: \", len(positive_features_c), len(positive_features_c[0]))\n",
    "print(\"Signs type d: \", len(positive_features_d), len(positive_features_d[0]))\n",
    "print(\"Signs type d: \", len(positive_features_d), len(positive_features_d[0]))\n",
    "\n",
    "print(\"\\nNonsigns GTSDB: \", len(negative_features), len(negative_features[0]))\n",
    "# print(\"Nonsigns road: \", len(negative_features_road), len(negative_features_road[0]))\n",
    "# print(\"Nonsigns KITTI: \", len(negative_features_kitti), len(negative_features_kitti[0]))\n",
    "\n",
    "print(\"\\nNonsigns at all: \", len(negative_features), len(negative_features[0]))\n",
    "print(\"Signs at all: \", len(positive_features), len(positive_features))\n",
    "\n",
    "# uncomment if binary classification\n",
    "unscaled_x = np.vstack((positive_features, negative_features)).astype(np.float64)\n",
    "'''\n",
    "unscaled_x = np.vstack((positive_features_a, \n",
    "                        positive_features_b,\n",
    "                        positive_features_c,\n",
    "                        positive_features_d,\n",
    "                        negative_features)).astype(np.float64)\n",
    "'''\n",
    "scaler = StandardScaler().fit(unscaled_x)\n",
    "x = scaler.transform(unscaled_x)\n",
    "\n",
    "# uncomment if binary classification\n",
    "y = np.hstack((np.ones(total_signs), np.zeros(total_nonsigns)))\n",
    "'''\n",
    "y = np.hstack((np.ones(total_signs_a),\n",
    "               np.full(total_signs_b, 2),\n",
    "               np.full(total_signs_c, 3),\n",
    "               np.full(total_signs_d, 4),\n",
    "               np.zeros(total_nonsigns)))\n",
    "'''\n",
    "print(\" x shape: \", x.shape, \" y shape: \", y.shape)\n",
    "\n",
    "print_executed()\n"
   ],
   "metadata": {
    "collapsed": false,
    "pycharm": {
     "name": "#%%\n",
     "is_executing": false
    }
   }
  },
  {
   "cell_type": "code",
   "execution_count": 15,
   "metadata": {
    "pycharm": {
     "is_executing": false
    }
   },
   "outputs": [
    {
     "name": "stdout",
     "text": [
      "Plot learning curve for dataset\n",
      "\n \u001b[32mEXECUTED BLOCK AT 18:5:6\u001b[0m\n"
     ],
     "output_type": "stream"
    },
    {
     "data": {
      "text/plain": "<Figure size 432x288 with 1 Axes>",
      "image/png": "[encoded data removed]"
     },
     "metadata": {
      "needs_background": "light"
     },
     "output_type": "display_data"
    }
   ],
   "source": [
    "print(\"Plot learning curve for dataset\")\n",
    "\n",
    "svc = SVC(probability=True)\n",
    "title = \"Learning curves for Supported Vector Machine\"\n",
    "warnings.filterwarnings(\"ignore\")\n",
    "cv = ShuffleSplit(n_splits=10, test_size=0.2, random_state=0)\n",
    "plot_learning_curve(svc, title, x, y, cv=cv, ylim=(0.7, 1.01))\n",
    "\n",
    "print_executed()\n"
   ]
  },
  {
   "cell_type": "code",
   "execution_count": 6,
   "metadata": {
    "pycharm": {
     "is_executing": false,
     "name": "#%%\n"
    }
   },
   "outputs": [
    {
     "name": "stdout",
     "text": [
      "Training classifier and saving models...\n",
      "              precision    recall  f1-score   support\n\n         0.0       0.99      0.99      0.99      1976\n         1.0       0.99      0.99      0.99      2024\n\n   micro avg       0.99      0.99      0.99      4000\n   macro avg       0.99      0.99      0.99      4000\nweighted avg       0.99      0.99      0.99      4000\n\noverall accuracy: 0.9912\n[[1964   12]\n [  22 2002]]\n\n \u001b[32mEXECUTED BLOCK AT 0:20:33\u001b[0m\n"
     ],
     "output_type": "stream"
    }
   ],
   "source": [
    "print(\"Training classifier and saving models...\")\n",
    "\n",
    "x_train, x_test, y_train, y_test = train_test_split(x, y, test_size=0.2, random_state=rand.randint(1, 100))\n",
    "\n",
    "svc = SVC(probability=True)\n",
    "warnings.filterwarnings(\"ignore\")\n",
    "svc.fit(x_train, y_train)\n",
    "accuracy = svc.score(x_test, y_test)\n",
    "y_pred_proba = svc.predict_proba(x_test)\n",
    "y_pred = np.argmax(y_pred_proba, axis=1)\n",
    "print(classification_report(y_test, y_pred))\n",
    "print(\"overall accuracy:\", np.round(accuracy, 4))\n",
    "print(confusion_matrix(y_test, y_pred))\n",
    "\n",
    "\n",
    "# save models\n",
    "now = datetime.datetime.now()\n",
    "created = str(now.year)+str(now.month)+str(now.day)  # +str(now.hour)+str(now.minute)\n",
    "joblib.dump(svc, './trained_models/SVC_'+created+'.pkl')\n",
    "joblib.dump(scaler, './trained_models/scaler_'+created+'.pkl')\n",
    "\n",
    "\n",
    "print_executed()\n",
    "\n"
   ]
  }
 ],
 "metadata": {
  "kernelspec": {
   "name": "pycharm-1bf24780",
   "language": "python",
   "display_name": "PyCharm (HOG_TSR)"
  },
  "language_info": {
   "codemirror_mode": {
    "name": "ipython",
    "version": 2
   },
   "file_extension": ".py",
   "mimetype": "text/x-python",
   "name": "python",
   "nbconvert_exporter": "python",
   "pygments_lexer": "ipython2",
   "version": "2.7.6"
  },
  "pycharm": {
   "stem_cell": {
    "cell_type": "raw",
    "source": [],
    "metadata": {
     "collapsed": false
    }
   }
  }
 },
 "nbformat": 4,
 "nbformat_minor": 0
}