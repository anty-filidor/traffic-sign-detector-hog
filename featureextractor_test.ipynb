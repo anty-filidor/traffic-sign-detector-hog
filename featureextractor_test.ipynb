{
 "cells": [
  {
   "cell_type": "code",
   "execution_count": 9,
   "metadata": {
    "collapsed": true
   },
   "outputs": [
    {
     "name": "stdout",
     "output_type": "stream",
     "text": [
      "\n \u001b[32mEXECUTED BLOCK AT 12:9:27\u001b[0m\n"
     ]
    }
   ],
   "source": [
    "from scipy.misc import imread\n",
    "import matplotlib.pyplot as plt\n",
    "import cv2\n",
    "from helpers import show_images, print_executed\n",
    "from hog_extractor import HOGExtractor\n",
    "\n",
    "hog_parameters = {\n",
    "    'color_model': 'hsv',  # hls, hsv, yuv, ycrcb\n",
    "    'svc_input_size': 64,  #\n",
    "    'number_of_orientations': 11,  # 6 - 12\n",
    "    'pixels_per_cell': 16,  # 8, 16\n",
    "    'cells_per_block': 2,  # 1, 2\n",
    "    'do_transform_sqrt': True,\n",
    "}\n",
    "\n",
    "print_executed()\n"
   ]
  },
  {
   "cell_type": "code",
   "execution_count": 13,
   "metadata": {},
   "outputs": [
    {
     "name": "stdout",
     "output_type": "stream",
     "text": [
      "feature shape: (1188,)\n\n \u001b[32mEXECUTED BLOCK AT 12:11:33\u001b[0m\n"
     ]
    }
   ],
   "source": [
    "#start_frame = cv2.imread('./dataset/positive/00038/00008_00014.ppm')\n",
    "start_frame = cv2.imread('dataset/test_images/test_10.png')\n",
    "extractor = HOGExtractor(hog_parameters, start_frame)\n",
    "\n",
    "f = extractor.features()\n",
    "print(\"feature shape:\", f.shape)\n",
    "\n",
    "rgb_img, a_img, b_img, c_img = extractor.visualize()\n",
    "show_images([rgb_img, a_img, b_img, c_img], per_row=4, per_col=1, W=20, H=4)\n",
    "\n",
    "print_executed()\n"
   ]
  },
  {
   "cell_type": "code",
   "execution_count": null,
   "metadata": {},
   "outputs": [],
   "source": []
  }
 ],
 "metadata": {
  "kernelspec": {
   "display_name": "Python 2",
   "language": "python",
   "name": "python2"
  },
  "language_info": {
   "codemirror_mode": {
    "name": "ipython",
    "version": 2
   },
   "file_extension": ".py",
   "mimetype": "text/x-python",
   "name": "python",
   "nbconvert_exporter": "python",
   "pygments_lexer": "ipython2",
   "version": "2.7.6"
  }
 },
 "nbformat": 4,
 "nbformat_minor": 0
}
