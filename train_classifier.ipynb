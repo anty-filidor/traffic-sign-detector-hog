{
 "cells": [
  {
   "cell_type": "code",
   "execution_count": 25,
   "metadata": {
    "collapsed": false
   },
   "outputs": [
    {
     "name": "stdout",
     "output_type": "stream",
     "text": [
      "\n \u001b[32mEXECUTED BLOCK AT 18:3:3\u001b[0m\n"
     ]
    }
   ],
   "source": [
    "from sklearn.svm import LinearSVC\n",
    "from sklearn.preprocessing import StandardScaler\n",
    "from sklearn.model_selection import train_test_split\n",
    "from sklearn.externals import joblib\n",
    "from skimage.feature import hog\n",
    "from hog_extractor import HOGExtractor\n",
    "import random as rand\n",
    "import numpy as np\n",
    "import matplotlib.pyplot as plt\n",
    "import cv2\n",
    "import glob\n",
    "from helpers import print_executed\n",
    "from tqdm import tqdm\n",
    "from matplotlib import pyplot as plt\n",
    "import pandas as pd\n",
    "\n",
    "hog_parameters = {\n",
    "    'color_model': 'hsv',  # hls, hsv, yuv, ycrcb\n",
    "    'svc_input_size': 64,  #\n",
    "    'number_of_orientations': 11,  # 6 - 12\n",
    "    'pixels_per_cell': 16,  # 8, 16\n",
    "    'cells_per_block': 2,  # 1, 2\n",
    "    'do_transform_sqrt': True,\n",
    "}\n",
    "\n",
    "start_frame = cv2.imread(\"./dataset/positive/00001/00000_00000.ppm\")\n",
    "extractor = HOGExtractor(hog_parameters, start_frame)\n",
    "positive_images, negative_images = [], []\n",
    "    \n",
    "print_executed()\n"
   ]
  },
  {
   "cell_type": "code",
   "execution_count": 26,
   "metadata": {
    "collapsed": true
   },
   "outputs": [
    {
     "name": "stdout",
     "output_type": "stream",
     "text": [
      "  folder typ numer\n0  00000   b    33\n1  00001   b    33\n2  00002   b    33\n3  00003   b    33\n4  00004   b    33\n5  00005   b    33\n7  00007   b    33\n8  00008   b    33 \n\n  typ    description\n0   a        warning\n1   b    prohibitory\n2   c      mandatory\n3   d  informational \n\n"
     ]
    }
   ],
   "source": [
    "# read file which describe positive dataset\n",
    "positive_data_descr = pd.read_csv('dataset/positive/folders_classes.csv', delimiter=';', dtype=object)\n",
    "positive_data_descr = positive_data_descr.drop('opis', axis=1)\n",
    "\n",
    "# select only prohibitory signs which are speed limits\n",
    "positive_data_descr = \\\n",
    "    positive_data_descr.loc[(positive_data_descr['typ'] == 'b') & (positive_data_descr['numer'] == '33')]\n",
    "print(positive_data_descr, '\\n')\n",
    "\n",
    "# read file which describe types of signs and select its language\n",
    "sign_description = pd.read_csv('dataset/sign_types.csv', delimiter=';')\n",
    "sign_description = sign_description.drop('opis', axis=1)\n",
    "print(sign_description.head(5), '\\n')"
   ]
  },
  {
   "cell_type": "code",
   "execution_count": 27,
   "metadata": {},
   "outputs": [
    {
     "name": "stderr",
     "output_type": "stream",
     "text": [
      "\r  0%|          | 0/9866 [00:00<?, ?it/s]"
     ]
    },
    {
     "name": "stderr",
     "output_type": "stream",
     "text": [
      "\r  1%|          | 95/9866 [00:00<00:10, 949.15it/s]"
     ]
    },
    {
     "name": "stdout",
     "output_type": "stream",
     "text": [
      "Loading negative images to memory...\n"
     ]
    },
    {
     "name": "stderr",
     "output_type": "stream",
     "text": [
      "\r  2%|▏         | 201/9866 [00:00<00:09, 978.76it/s]"
     ]
    },
    {
     "name": "stderr",
     "output_type": "stream",
     "text": [
      "\r  3%|▎         | 327/9866 [00:00<00:09, 1047.64it/s]"
     ]
    },
    {
     "name": "stderr",
     "output_type": "stream",
     "text": [
      "\r  4%|▍         | 443/9866 [00:00<00:08, 1078.85it/s]"
     ]
    },
    {
     "name": "stderr",
     "output_type": "stream",
     "text": [
      "\r  6%|▌         | 565/9866 [00:00<00:08, 1115.03it/s]"
     ]
    },
    {
     "name": "stderr",
     "output_type": "stream",
     "text": [
      "\r  7%|▋         | 663/9866 [00:00<00:08, 1060.64it/s]"
     ]
    },
    {
     "name": "stderr",
     "output_type": "stream",
     "text": [
      "\r  8%|▊         | 760/9866 [00:00<00:08, 1014.16it/s]"
     ]
    },
    {
     "name": "stderr",
     "output_type": "stream",
     "text": [
      "\r  9%|▉         | 870/9866 [00:00<00:08, 1035.24it/s]"
     ]
    },
    {
     "name": "stderr",
     "output_type": "stream",
     "text": [
      "\r 10%|▉         | 977/9866 [00:00<00:08, 1044.31it/s]"
     ]
    },
    {
     "name": "stderr",
     "output_type": "stream",
     "text": [
      "\r 11%|█▏        | 1114/9866 [00:01<00:07, 1123.99it/s]"
     ]
    },
    {
     "name": "stderr",
     "output_type": "stream",
     "text": [
      "\r 13%|█▎        | 1252/9866 [00:01<00:07, 1189.42it/s]"
     ]
    },
    {
     "name": "stderr",
     "output_type": "stream",
     "text": [
      "\r 14%|█▍        | 1394/9866 [00:01<00:06, 1249.28it/s]"
     ]
    },
    {
     "name": "stderr",
     "output_type": "stream",
     "text": [
      "\r 16%|█▌        | 1532/9866 [00:01<00:06, 1285.60it/s]"
     ]
    },
    {
     "name": "stderr",
     "output_type": "stream",
     "text": [
      "\r 17%|█▋        | 1683/9866 [00:01<00:06, 1344.47it/s]"
     ]
    },
    {
     "name": "stderr",
     "output_type": "stream",
     "text": [
      "\r 19%|█▊        | 1830/9866 [00:01<00:05, 1377.82it/s]"
     ]
    },
    {
     "name": "stderr",
     "output_type": "stream",
     "text": [
      "\r 20%|██        | 1989/9866 [00:01<00:05, 1435.05it/s]"
     ]
    },
    {
     "name": "stderr",
     "output_type": "stream",
     "text": [
      "\r 22%|██▏       | 2143/9866 [00:01<00:05, 1463.21it/s]"
     ]
    },
    {
     "name": "stderr",
     "output_type": "stream",
     "text": [
      "\r 23%|██▎       | 2294/9866 [00:01<00:05, 1475.87it/s]"
     ]
    },
    {
     "name": "stderr",
     "output_type": "stream",
     "text": [
      "\r 25%|██▍       | 2443/9866 [00:01<00:05, 1367.32it/s]"
     ]
    },
    {
     "name": "stderr",
     "output_type": "stream",
     "text": [
      "\r 26%|██▌       | 2582/9866 [00:02<00:06, 1197.05it/s]"
     ]
    },
    {
     "name": "stderr",
     "output_type": "stream",
     "text": [
      "\r 27%|██▋       | 2708/9866 [00:02<00:05, 1205.54it/s]"
     ]
    },
    {
     "name": "stderr",
     "output_type": "stream",
     "text": [
      "\r 29%|██▊       | 2833/9866 [00:02<00:06, 1121.79it/s]"
     ]
    },
    {
     "name": "stderr",
     "output_type": "stream",
     "text": [
      "\r 30%|██▉       | 2949/9866 [00:02<00:06, 1045.16it/s]"
     ]
    },
    {
     "name": "stderr",
     "output_type": "stream",
     "text": [
      "\r 31%|███       | 3058/9866 [00:02<00:06, 976.21it/s] "
     ]
    },
    {
     "name": "stderr",
     "output_type": "stream",
     "text": [
      "\r 32%|███▏      | 3160/9866 [00:02<00:06, 959.11it/s]"
     ]
    },
    {
     "name": "stderr",
     "output_type": "stream",
     "text": [
      "\r 33%|███▎      | 3259/9866 [00:02<00:07, 929.63it/s]"
     ]
    },
    {
     "name": "stderr",
     "output_type": "stream",
     "text": [
      "\r 34%|███▍      | 3354/9866 [00:02<00:07, 910.59it/s]"
     ]
    },
    {
     "name": "stderr",
     "output_type": "stream",
     "text": [
      "\r 35%|███▍      | 3447/9866 [00:03<00:07, 899.00it/s]"
     ]
    },
    {
     "name": "stderr",
     "output_type": "stream",
     "text": [
      "\r 36%|███▌      | 3538/9866 [00:03<00:07, 888.27it/s]"
     ]
    },
    {
     "name": "stderr",
     "output_type": "stream",
     "text": [
      "\r 37%|███▋      | 3628/9866 [00:03<00:07, 885.12it/s]"
     ]
    },
    {
     "name": "stderr",
     "output_type": "stream",
     "text": [
      "\r 38%|███▊      | 3718/9866 [00:03<00:06, 881.36it/s]"
     ]
    },
    {
     "name": "stderr",
     "output_type": "stream",
     "text": [
      "\r 39%|███▊      | 3807/9866 [00:03<00:06, 877.55it/s]"
     ]
    },
    {
     "name": "stderr",
     "output_type": "stream",
     "text": [
      "\r 39%|███▉      | 3896/9866 [00:03<00:06, 872.38it/s]"
     ]
    },
    {
     "name": "stderr",
     "output_type": "stream",
     "text": [
      "\r 40%|████      | 3984/9866 [00:03<00:06, 854.70it/s]"
     ]
    },
    {
     "name": "stderr",
     "output_type": "stream",
     "text": [
      "\r 41%|████▏     | 4070/9866 [00:03<00:06, 843.53it/s]"
     ]
    },
    {
     "name": "stderr",
     "output_type": "stream",
     "text": [
      "\r 42%|████▏     | 4155/9866 [00:03<00:06, 838.95it/s]"
     ]
    },
    {
     "name": "stderr",
     "output_type": "stream",
     "text": [
      "\r 43%|████▎     | 4240/9866 [00:03<00:06, 833.24it/s]"
     ]
    },
    {
     "name": "stderr",
     "output_type": "stream",
     "text": [
      "\r 44%|████▍     | 4324/9866 [00:04<00:06, 830.16it/s]"
     ]
    },
    {
     "name": "stderr",
     "output_type": "stream",
     "text": [
      "\r 45%|████▍     | 4408/9866 [00:04<00:06, 826.59it/s]"
     ]
    },
    {
     "name": "stderr",
     "output_type": "stream",
     "text": [
      "\r 46%|████▌     | 4491/9866 [00:04<00:06, 823.55it/s]"
     ]
    },
    {
     "name": "stderr",
     "output_type": "stream",
     "text": [
      "\r 46%|████▋     | 4575/9866 [00:04<00:06, 827.05it/s]"
     ]
    },
    {
     "name": "stderr",
     "output_type": "stream",
     "text": [
      "\r 47%|████▋     | 4658/9866 [00:04<00:06, 824.39it/s]"
     ]
    },
    {
     "name": "stderr",
     "output_type": "stream",
     "text": [
      "\r 48%|████▊     | 4741/9866 [00:04<00:06, 820.91it/s]"
     ]
    },
    {
     "name": "stderr",
     "output_type": "stream",
     "text": [
      "\r 49%|████▉     | 4824/9866 [00:04<00:06, 823.44it/s]"
     ]
    },
    {
     "name": "stderr",
     "output_type": "stream",
     "text": [
      "\r 50%|████▉     | 4907/9866 [00:04<00:06, 822.62it/s]"
     ]
    },
    {
     "name": "stderr",
     "output_type": "stream",
     "text": [
      "\r 51%|█████     | 4990/9866 [00:04<00:05, 821.06it/s]"
     ]
    },
    {
     "name": "stderr",
     "output_type": "stream",
     "text": [
      "\r 51%|█████▏    | 5073/9866 [00:04<00:05, 815.25it/s]"
     ]
    },
    {
     "name": "stderr",
     "output_type": "stream",
     "text": [
      "\r 52%|█████▏    | 5156/9866 [00:05<00:05, 818.81it/s]"
     ]
    },
    {
     "name": "stderr",
     "output_type": "stream",
     "text": [
      "\r 53%|█████▎    | 5238/9866 [00:05<00:05, 818.40it/s]"
     ]
    },
    {
     "name": "stderr",
     "output_type": "stream",
     "text": [
      "\r 54%|█████▍    | 5322/9866 [00:05<00:05, 822.37it/s]"
     ]
    },
    {
     "name": "stderr",
     "output_type": "stream",
     "text": [
      "\r 55%|█████▍    | 5405/9866 [00:05<00:05, 823.30it/s]"
     ]
    },
    {
     "name": "stderr",
     "output_type": "stream",
     "text": [
      "\r 56%|█████▌    | 5488/9866 [00:05<00:05, 820.93it/s]"
     ]
    },
    {
     "name": "stderr",
     "output_type": "stream",
     "text": [
      "\r 56%|█████▋    | 5571/9866 [00:05<00:05, 821.26it/s]"
     ]
    },
    {
     "name": "stderr",
     "output_type": "stream",
     "text": [
      "\r 57%|█████▋    | 5655/9866 [00:05<00:05, 824.04it/s]"
     ]
    },
    {
     "name": "stderr",
     "output_type": "stream",
     "text": [
      "\r 58%|█████▊    | 5759/9866 [00:05<00:04, 877.37it/s]"
     ]
    },
    {
     "name": "stderr",
     "output_type": "stream",
     "text": [
      "\r 59%|█████▉    | 5854/9866 [00:05<00:04, 895.44it/s]"
     ]
    },
    {
     "name": "stderr",
     "output_type": "stream",
     "text": [
      "\r 60%|██████    | 5953/9866 [00:05<00:04, 919.41it/s]"
     ]
    },
    {
     "name": "stderr",
     "output_type": "stream",
     "text": [
      "\r 61%|██████▏   | 6048/9866 [00:06<00:04, 925.35it/s]"
     ]
    },
    {
     "name": "stderr",
     "output_type": "stream",
     "text": [
      "\r 62%|██████▏   | 6159/9866 [00:06<00:03, 972.28it/s]"
     ]
    },
    {
     "name": "stderr",
     "output_type": "stream",
     "text": [
      "\r 63%|██████▎   | 6258/9866 [00:06<00:03, 970.44it/s]"
     ]
    },
    {
     "name": "stderr",
     "output_type": "stream",
     "text": [
      "\r 65%|██████▍   | 6367/9866 [00:06<00:03, 1002.42it/s]"
     ]
    },
    {
     "name": "stderr",
     "output_type": "stream",
     "text": [
      "\r 66%|██████▌   | 6468/9866 [00:06<00:03, 960.47it/s] "
     ]
    },
    {
     "name": "stderr",
     "output_type": "stream",
     "text": [
      "\r 67%|██████▋   | 6565/9866 [00:06<00:03, 946.03it/s]"
     ]
    },
    {
     "name": "stderr",
     "output_type": "stream",
     "text": [
      "\r 68%|██████▊   | 6661/9866 [00:06<00:03, 912.47it/s]"
     ]
    },
    {
     "name": "stderr",
     "output_type": "stream",
     "text": [
      "\r 68%|██████▊   | 6753/9866 [00:06<00:03, 883.35it/s]"
     ]
    },
    {
     "name": "stderr",
     "output_type": "stream",
     "text": [
      "\r 69%|██████▉   | 6843/9866 [00:06<00:03, 872.72it/s]"
     ]
    },
    {
     "name": "stderr",
     "output_type": "stream",
     "text": [
      "\r 70%|███████   | 6931/9866 [00:07<00:03, 857.27it/s]"
     ]
    },
    {
     "name": "stderr",
     "output_type": "stream",
     "text": [
      "\r 71%|███████   | 7018/9866 [00:07<00:03, 850.52it/s]"
     ]
    },
    {
     "name": "stderr",
     "output_type": "stream",
     "text": [
      "\r 72%|███████▏  | 7117/9866 [00:07<00:03, 887.70it/s]"
     ]
    },
    {
     "name": "stderr",
     "output_type": "stream",
     "text": [
      "\r 73%|███████▎  | 7207/9866 [00:07<00:03, 873.51it/s]"
     ]
    },
    {
     "name": "stderr",
     "output_type": "stream",
     "text": [
      "\r 74%|███████▍  | 7295/9866 [00:07<00:02, 867.41it/s]"
     ]
    },
    {
     "name": "stderr",
     "output_type": "stream",
     "text": [
      "\r 75%|███████▍  | 7383/9866 [00:07<00:02, 859.58it/s]"
     ]
    },
    {
     "name": "stderr",
     "output_type": "stream",
     "text": [
      "\r 76%|███████▌  | 7470/9866 [00:07<00:02, 850.61it/s]"
     ]
    },
    {
     "name": "stderr",
     "output_type": "stream",
     "text": [
      "\r 77%|███████▋  | 7556/9866 [00:07<00:02, 843.85it/s]"
     ]
    },
    {
     "name": "stderr",
     "output_type": "stream",
     "text": [
      "\r 77%|███████▋  | 7642/9866 [00:07<00:02, 848.39it/s]"
     ]
    },
    {
     "name": "stderr",
     "output_type": "stream",
     "text": [
      "\r 78%|███████▊  | 7727/9866 [00:07<00:02, 847.56it/s]"
     ]
    },
    {
     "name": "stderr",
     "output_type": "stream",
     "text": [
      "\r 79%|███████▉  | 7812/9866 [00:08<00:02, 844.81it/s]"
     ]
    },
    {
     "name": "stderr",
     "output_type": "stream",
     "text": [
      "\r 80%|████████  | 7901/9866 [00:08<00:02, 855.93it/s]"
     ]
    },
    {
     "name": "stderr",
     "output_type": "stream",
     "text": [
      "\r 81%|████████  | 7987/9866 [00:08<00:02, 838.18it/s]"
     ]
    },
    {
     "name": "stderr",
     "output_type": "stream",
     "text": [
      "\r 82%|████████▏ | 8071/9866 [00:08<00:02, 834.41it/s]"
     ]
    },
    {
     "name": "stderr",
     "output_type": "stream",
     "text": [
      "\r 83%|████████▎ | 8155/9866 [00:08<00:02, 833.49it/s]"
     ]
    },
    {
     "name": "stderr",
     "output_type": "stream",
     "text": [
      "\r 84%|████████▎ | 8239/9866 [00:08<00:01, 832.48it/s]"
     ]
    },
    {
     "name": "stderr",
     "output_type": "stream",
     "text": [
      "\r 84%|████████▍ | 8323/9866 [00:08<00:01, 833.59it/s]"
     ]
    },
    {
     "name": "stderr",
     "output_type": "stream",
     "text": [
      "\r 85%|████████▌ | 8407/9866 [00:08<00:01, 833.61it/s]"
     ]
    },
    {
     "name": "stderr",
     "output_type": "stream",
     "text": [
      "\r 86%|████████▌ | 8491/9866 [00:08<00:01, 832.49it/s]"
     ]
    },
    {
     "name": "stderr",
     "output_type": "stream",
     "text": [
      "\r 87%|████████▋ | 8575/9866 [00:08<00:01, 833.73it/s]"
     ]
    },
    {
     "name": "stderr",
     "output_type": "stream",
     "text": [
      "\r 88%|████████▊ | 8660/9866 [00:09<00:01, 836.63it/s]"
     ]
    },
    {
     "name": "stderr",
     "output_type": "stream",
     "text": [
      "\r 89%|████████▊ | 8746/9866 [00:09<00:01, 841.70it/s]"
     ]
    },
    {
     "name": "stderr",
     "output_type": "stream",
     "text": [
      "\r 90%|████████▉ | 8831/9866 [00:09<00:01, 827.92it/s]"
     ]
    },
    {
     "name": "stderr",
     "output_type": "stream",
     "text": [
      "\r 90%|█████████ | 8916/9866 [00:09<00:01, 832.50it/s]"
     ]
    },
    {
     "name": "stderr",
     "output_type": "stream",
     "text": [
      "\r 91%|█████████ | 9000/9866 [00:09<00:01, 830.18it/s]"
     ]
    },
    {
     "name": "stderr",
     "output_type": "stream",
     "text": [
      "\r 92%|█████████▏| 9084/9866 [00:09<00:00, 829.49it/s]"
     ]
    },
    {
     "name": "stderr",
     "output_type": "stream",
     "text": [
      "\r 93%|█████████▎| 9167/9866 [00:09<00:00, 827.59it/s]"
     ]
    },
    {
     "name": "stderr",
     "output_type": "stream",
     "text": [
      "\r 94%|█████████▍| 9250/9866 [00:09<00:00, 828.26it/s]"
     ]
    },
    {
     "name": "stderr",
     "output_type": "stream",
     "text": [
      "\r 95%|█████████▍| 9333/9866 [00:09<00:00, 826.79it/s]"
     ]
    },
    {
     "name": "stderr",
     "output_type": "stream",
     "text": [
      "\r 95%|█████████▌| 9416/9866 [00:10<00:00, 822.25it/s]"
     ]
    },
    {
     "name": "stderr",
     "output_type": "stream",
     "text": [
      "\r 96%|█████████▋| 9499/9866 [00:10<00:00, 822.65it/s]"
     ]
    },
    {
     "name": "stderr",
     "output_type": "stream",
     "text": [
      "\r 97%|█████████▋| 9582/9866 [00:10<00:00, 807.40it/s]"
     ]
    },
    {
     "name": "stderr",
     "output_type": "stream",
     "text": [
      "\r 98%|█████████▊| 9663/9866 [00:10<00:00, 804.18it/s]"
     ]
    },
    {
     "name": "stderr",
     "output_type": "stream",
     "text": [
      "\r 99%|█████████▉| 9744/9866 [00:10<00:00, 791.01it/s]"
     ]
    },
    {
     "name": "stderr",
     "output_type": "stream",
     "text": [
      "\r100%|██████████| 9866/9866 [00:10<00:00, 937.37it/s]"
     ]
    },
    {
     "name": "stdout",
     "output_type": "stream",
     "text": [
      "\n \u001b[32mEXECUTED BLOCK AT 18:3:21\u001b[0m\n"
     ]
    },
    {
     "name": "stderr",
     "output_type": "stream",
     "text": [
      "\n"
     ]
    }
   ],
   "source": [
    "print(\"Loading negative images to memory...\")\n",
    "\n",
    "negative_paths = glob.glob('./dataset/negative/*/*.png')\n",
    "for path in tqdm(negative_paths):\n",
    "    image = cv2.imread(path)\n",
    "    if image.shape[0] >= 30 or image.shape[1] >= 30:\n",
    "        negative_images.append(image)\n",
    "\n",
    "# good_width, good_height, _ = negative_images[0].shape # zastanowić się czy to jest potrzebne!!!\n",
    "\n",
    "print_executed()\n"
   ]
  },
  {
   "cell_type": "code",
   "execution_count": 47,
   "metadata": {
    "collapsed": false
   },
   "outputs": [
    {
     "name": "stderr",
     "output_type": "stream",
     "text": [
      "\r  0%|          | 0/210 [00:00<?, ?it/s]"
     ]
    },
    {
     "name": "stderr",
     "output_type": "stream",
     "text": [
      "\r 35%|███▍      | 73/210 [00:00<00:00, 717.25it/s]"
     ]
    },
    {
     "name": "stdout",
     "output_type": "stream",
     "text": [
      "Loading positive images to memory...\n\nReading folder:  00000 \n\n(23, 24, 3)\n(24, 25, 3)\n(25, 26, 3)\n(26, 27, 3)\n(27, 27, 3)\n(29, 29, 3)\n(31, 31, 3)\n(33, 33, 3)\n(35, 34, 3)\n(36, 36, 3)\n(40, 38, 3)\n(43, 41, 3)\n(45, 44, 3)\n(47, 47, 3)\n(51, 51, 3)\n(57, 57, 3)\n(63, 63, 3)\n(71, 71, 3)\n(81, 80, 3)\n(90, 91, 3)\n(103, 105, 3)\n(120, 123, 3)\n(24, 24, 3)\n(25, 25, 3)\n(25, 25, 3)\n(26, 25, 3)\n(26, 26, 3)\n(27, 27, 3)\n(28, 28, 3)\n(29, 29, 3)\n(30, 30, 3)\n(31, 32, 3)\n(32, 33, 3)\n(34, 35, 3)\n(35, 36, 3)\n(36, 37, 3)\n(38, 39, 3)\n(40, 42, 3)\n(42, 44, 3)\n(44, 46, 3)\n(46, 48, 3)\n(49, 50, 3)\n(25, 25, 3)\n(27, 27, 3)\n(28, 28, 3)\n(29, 29, 3)\n(30, 30, 3)\n(33, 33, 3)\n(35, 35, 3)\n(37, 37, 3)\n(40, 40, 3)\n(42, 42, 3)\n(44, 44, 3)\n(48, 48, 3)\n(52, 52, 3)\n(56, 58, 3)\n(62, 63, 3)\n(69, 70, 3)\n(76, 78, 3)\n(88, 90, 3)\n(101, 103, 3)\n(25, 25, 3)\n(25, 25, 3)\n(26, 26, 3)\n(27, 27, 3)\n(29, 29, 3)\n(30, 30, 3)\n(32, 32, 3)\n(33, 35, 3)\n(36, 36, 3)\n(40, 40, 3)\n(41, 42, 3)\n(43, 44, 3)\n(47, 46, 3)\n(51, 49, 3)\n(54, 51, 3)\n(58, 55, 3)\n(64, 63, 3)\n(70, 68, 3)\n(78, 76, 3)\n(90, 86, 3)\n(44, 48, 3)\n"
     ]
    },
    {
     "name": "stderr",
     "output_type": "stream",
     "text": [
      "\r 65%|██████▌   | 137/210 [00:00<00:00, 689.84it/s]"
     ]
    },
    {
     "name": "stderr",
     "output_type": "stream",
     "text": [
      "\r 96%|█████████▌| 201/210 [00:00<00:00, 673.16it/s]"
     ]
    },
    {
     "name": "stderr",
     "output_type": "stream",
     "text": [
      "\r100%|██████████| 210/210 [00:00<00:00, 646.90it/s]"
     ]
    },
    {
     "name": "stdout",
     "output_type": "stream",
     "text": [
      "(45, 49, 3)\n(46, 50, 3)\n(47, 50, 3)\n(48, 52, 3)\n(49, 53, 3)\n(49, 53, 3)\n(51, 56, 3)\n(52, 57, 3)\n(54, 58, 3)\n(54, 58, 3)\n(55, 58, 3)\n(57, 60, 3)\n(57, 60, 3)\n(57, 61, 3)\n(58, 62, 3)\n(61, 65, 3)\n(61, 65, 3)\n(62, 65, 3)\n(64, 68, 3)\n(65, 70, 3)\n(66, 71, 3)\n(67, 72, 3)\n(68, 74, 3)\n(70, 74, 3)\n(71, 76, 3)\n(74, 79, 3)\n(78, 83, 3)\n(82, 87, 3)\n(88, 91, 3)\n(25, 23, 3)\n(27, 24, 3)\n(27, 25, 3)\n(28, 27, 3)\n(30, 29, 3)\n(32, 30, 3)\n(33, 31, 3)\n(35, 33, 3)\n(37, 35, 3)\n(39, 37, 3)\n(42, 39, 3)\n(45, 44, 3)\n(48, 47, 3)\n(53, 51, 3)\n(57, 54, 3)\n(63, 60, 3)\n(68, 68, 3)\n(78, 77, 3)\n(91, 89, 3)\n(23, 25, 3)\n(24, 26, 3)\n(25, 27, 3)\n(26, 28, 3)\n(27, 29, 3)\n(26, 29, 3)\n(27, 29, 3)\n(29, 31, 3)\n(29, 31, 3)\n(30, 32, 3)\n(32, 34, 3)\n(34, 36, 3)\n(36, 38, 3)\n(37, 39, 3)\n(40, 42, 3)\n(42, 44, 3)\n(43, 45, 3)\n(45, 48, 3)\n(46, 49, 3)\n(50, 53, 3)\n(52, 55, 3)\n(56, 59, 3)\n(60, 63, 3)\n(63, 67, 3)\n(66, 70, 3)\n(69, 73, 3)\n(75, 79, 3)\n(80, 84, 3)\n(86, 90, 3)\n(93, 97, 3)\n\n \u001b[32mEXECUTED BLOCK AT 18:17:54\u001b[0m\n"
     ]
    },
    {
     "name": "stderr",
     "output_type": "stream",
     "text": [
      "\n"
     ]
    }
   ],
   "source": [
    "print(\"Loading positive images to memory...\\n\")\n",
    "\n",
    "# for each selected folder\n",
    "for folder in positive_data_descr['folder']:\n",
    "    # read all images from it and sort it\n",
    "    paths = sorted(glob.glob('./dataset/positive/' + folder + '/*.ppm'))\n",
    "    # read csv which contains bounding boxes of traffic sign\n",
    "    csv = pd.read_csv('./dataset/positive/' + folder + '/GT-' + folder + '.csv', delimiter=';')\n",
    "    print(\"Reading folder: \", folder, '\\n')\n",
    "    for path in tqdm(paths):\n",
    "        # read name of the image\n",
    "        name = path.split('/')[4]\n",
    "        # search for selected image in the csv and flatten that row to list\n",
    "        row = (csv.loc[csv['Filename'] == name]).values.tolist()\n",
    "        # read image and cut ROI with traffic sign, then add to list\n",
    "        image = cv2.imread(path)\n",
    "        if image.shape[0] >= 35 or image.shape[1] >= 35:\n",
    "            image = image[row[0][3]:row[0][5], row[0][4]:row[0][6]]\n",
    "            print(image.shape)\n",
    "            #positive_images.append(image)\n",
    "    break\n",
    "\n",
    "print_executed()\n"
   ]
  },
  {
   "cell_type": "code",
   "execution_count": 46,
   "metadata": {},
   "outputs": [
    {
     "name": "stdout",
     "output_type": "stream",
     "text": [
      "Positive images shape:  (11835,) type:  <class 'list'>\nNegative images shape:  (9866, 64, 64, 3) type:  <class 'list'>\nPositive images:  2 type:  <class 'list'>\nNegative images shape:  9866 type:  <class 'list'>\n"
     ]
    }
   ],
   "source": [
    "# stack already read images to np array\n",
    "positive_images1, negative_images1 = np.asarray(positive_images), np.asarray(negative_images)\n",
    "#total_signs, total_nonsigns = positive_images1.shape[0], negative_images1.shape[0]\n",
    "\n",
    "print(\"Positive images shape: \", positive_images1.shape, \"type: \", type(positive_images))\n",
    "print(\"Negative images shape: \", negative_images1.shape, \"type: \", type(negative_images))\n",
    "\n",
    "positive_features, negative_features = [], []\n",
    "\n",
    "print(\"Positive images: \", len(positive_images[0][0].shape), \"type: \", type(positive_images))\n",
    "print(\"Negative images shape: \", len(negative_images), \"type: \", type(negative_images))"
   ]
  },
  {
   "cell_type": "code",
   "execution_count": 58,
   "metadata": {
    "collapsed": true
   },
   "outputs": [
    {
     "name": "stdout",
     "output_type": "stream",
     "text": [
      "Extracting features...\nTraffic signs...\n1 5880\n2 5880\n3 5880\n4 5880\n5 5880\n6 5880\n7 5880\n8 5880\n9 5880\n10 5880\n11 5880\n12 5880\n13 5880\n14 5880\n"
     ]
    },
    {
     "name": "stdout",
     "output_type": "stream",
     "text": [
      "15 5880\n16 5880\n17 5880\n18 5880\n19 5880\n20 5880\n21 5880\n22 5880\n23 5880\n24 5880\n25 5880\n26 5880\n27 5880\n28 5880\n"
     ]
    },
    {
     "name": "stdout",
     "output_type": "stream",
     "text": [
      "29 5880\n30 5880\n31 5880\n32 5880\n33 5880\n34 5880\n35 5880\n36 5880\n37 5880\n38 5880\n39 5880\n40 5880\n41 5880\n42 5880\n43 5880\n"
     ]
    },
    {
     "name": "stdout",
     "output_type": "stream",
     "text": [
      "44 5880\n45 5880\n46 5880\n47 5880\n48 5880\n49 5880\n50 5880\n51 5880\n52 5880\n53 5880\n54 5880\n55 5880\n56 5880\n57 5880\n58 5880\n59 5880\n"
     ]
    },
    {
     "name": "stdout",
     "output_type": "stream",
     "text": [
      "60 5880\n61 5880\n62 5880\n63 5880\n64 5880\n65 5880\n66 5880\n67 5880\n68 5880\n69 5880\n70 5880\n71 5880\n72 5880\n73 5880\n74 5880\n75 5880\n76 5880\n"
     ]
    },
    {
     "name": "stdout",
     "output_type": "stream",
     "text": [
      "77 5880\n78 5880\n79 5880\n80 5880\n81 5880\n82 5880\n83 5880\n84 5880\n85 5880\n86 5880\n87 5880\n88 5880\n89 5880\n90 5880\n91 5880\n92 5880\n93 5880\n"
     ]
    },
    {
     "name": "stdout",
     "output_type": "stream",
     "text": [
      "94 5880\n95 5880\n96 5880\n97 5880\n98 5880\n99 5880\n100 5880\n101 5880\n102 5880\n103 5880\n104 5880\n105 5880\n106 5880\n107 5880\n108 5880\n109 5880\n110 5880\n"
     ]
    },
    {
     "name": "stdout",
     "output_type": "stream",
     "text": [
      "111 5880\n112 5880\n113 5880\n114 5880\n115 5880\n116 5880\n117 5880\n118 5880\n119 5880\n120 5880\n121 5880\n122 5880\n123 5880\n124 5880\n125 5880\n126 5880\n127 5880\n"
     ]
    },
    {
     "name": "stdout",
     "output_type": "stream",
     "text": [
      "128 5880\n129 5880\n130 5880\n131 5880\n132 5880\n133 5880\n134 5880\n135 5880\n136 5880\n137 5880\n138 5880\n139 5880\n140 5880\n141 5880\n142 5880\n143 5880\n144 5880\n"
     ]
    },
    {
     "name": "stdout",
     "output_type": "stream",
     "text": [
      "145 5880\n146 5880\n147 5880\n148 5880\n149 5880\n150 5880\n151 5880\n152 5880\n153 5880\n154 5880\n155 5880\n156 5880\n157 5880\n158 5880\n159 5880\n160 5880\n161 5880\n162 5880\n"
     ]
    },
    {
     "name": "stdout",
     "output_type": "stream",
     "text": [
      "163 5880\n164 5880\n165 5880\n166 5880\n167 5880\n168 5880\n169 5880\n170 5880\n171 5880\n172 5880\n173 5880\n174 5880\n175 5880\n176 5880\n177 5880\n178 5880\n179 5880\n180 5880\n"
     ]
    },
    {
     "name": "stdout",
     "output_type": "stream",
     "text": [
      "181 5880\n182 5880\n183 5880\n184 5880\n185 5880\n186 5880\n187 5880\n188 5880\n189 5880\n190 5880\n191 5880\n192 5880\n193 5880\n194 5880\n195 5880\n196 5880\n197 5880\n"
     ]
    },
    {
     "name": "stdout",
     "output_type": "stream",
     "text": [
      "198 5880\n199 5880\n200 5880\n201 5880\n202 5880\n203 5880\n204 5880\n205 5880\n206 5880\n207 5880\n208 5880\n209 5880\n210 5880\n211 5880\n212 5880\n213 5880\n214 5880\n"
     ]
    },
    {
     "name": "stdout",
     "output_type": "stream",
     "text": [
      "215 5880\n216 5880\n217 5880\n218 5880\n219 5880\n220 5880\n221 5880\n222 5880\n223 5880\n224 5880\n225 5880\n226 5880\n227 5880\n228 5880\n229 5880\n230 5880\n231 5880\n"
     ]
    },
    {
     "name": "stdout",
     "output_type": "stream",
     "text": [
      "232 5880\n233 5880\n234 5880\n235 5880\n236 5880\n237 5880\n238 5880\n239 5880\n240 5880\n241 5880\n242 5880\n243 5880\n244 5880\n245 5880\n246 5880\n247 5880\n248 5880\n"
     ]
    },
    {
     "name": "stdout",
     "output_type": "stream",
     "text": [
      "249 5880\n250 5880\n251 5880\n252 5880\n253 5880\n254 5880\n255 5880\n256 5880\n257 5880\n258 5880\n259 5880\n260 5880\n261 5880\n262 5880\n263 5880\n264 5880\n"
     ]
    },
    {
     "name": "stdout",
     "output_type": "stream",
     "text": [
      "265 5880\n266 5880\n267 5880\n268 5880\n269 5880\n270 5880\n271 5880\n272 5880\n273 5880\n274 5880\n275 5880\n276 5880\n277 5880\n278 5880\n279 5880\n280 5880\n281 5880\n"
     ]
    },
    {
     "name": "stdout",
     "output_type": "stream",
     "text": [
      "282 5880\n283 5880\n284 5880\n285 5880\n286 5880\n287 5880\n288 5880\n289 5880\n290 5880\n291 5880\n292 5880\n293 5880\n294 5880\n295 5880\n296 5880\n297 5880\n"
     ]
    },
    {
     "name": "stdout",
     "output_type": "stream",
     "text": [
      "298 5880\n299 5880\n300 5880\n301 5880\n302 5880\n303 5880\n304 5880\n305 5880\n306 5880\n307 5880\n308 5880\n309 5880\n310 5880\n311 5880\n312 5880\n313 5880\n"
     ]
    },
    {
     "name": "stdout",
     "output_type": "stream",
     "text": [
      "314 5880\n315 5880\n316 5880\n317 5880\n318 5880\n319 5880\n320 5880\n321 5880\n322 5880\n323 5880\n324 5880\n325 5880\n326 5880\n327 5880\n328 5880\n329 5880\n"
     ]
    },
    {
     "name": "stdout",
     "output_type": "stream",
     "text": [
      "330 5880\n331 5880\n332 5880\n333 5880\n334 5880\n335 5880\n336 5880\n337 5880\n338 5880\n339 5880\n340 5880\n341 5880\n342 5880\n343 5880\n344 5880\n345 5880\n346 5880\n"
     ]
    },
    {
     "name": "stdout",
     "output_type": "stream",
     "text": [
      "347 5880\n348 5880\n349 5880\n350 5880\n351 5880\n352 5880\n353 5880\n354 5880\n355 5880\n356 5880\n357 5880\n358 5880\n359 5880\n360 5880\n361 5880\n362 5880\n"
     ]
    },
    {
     "name": "stdout",
     "output_type": "stream",
     "text": [
      "363 5880\n364 5880\n365 5880\n366 5880\n367 5880\n368 5880\n369 5880\n370 5880\n371 5880\n372 5880\n373 5880\n374 5880\n375 5880\n376 5880\n377 5880\n378 5880\n"
     ]
    },
    {
     "name": "stdout",
     "output_type": "stream",
     "text": [
      "379 5880\n380 5880\n381 5880\n382 5880\n383 5880\n384 5880\n385 5880\n386 5880\n387 5880\n388 5880\n389 5880\n390 5880\n391 5880\n392 5880\n393 5880\n394 5880\n395 5880\n"
     ]
    },
    {
     "name": "stdout",
     "output_type": "stream",
     "text": [
      "396 5880\n397 5880\n398 5880\n399 5880\n400 5880\n401 5880\n402 5880\n403 5880\n404 5880\n405 5880\n406 5880\n407 5880\n408 5880\n409 5880\n410 5880\n411 5880\n412 5880\n"
     ]
    },
    {
     "name": "stdout",
     "output_type": "stream",
     "text": [
      "413 5880\n414 5880\n415 5880\n416 5880\n417 5880\n418 5880\n419 5880\n420 5880\n421 5880\n422 5880\n423 5880\n424 5880\n425 5880\n426 5880\n427 5880\n428 5880\n429 5880\n"
     ]
    },
    {
     "name": "stdout",
     "output_type": "stream",
     "text": [
      "430 5880\n431 5880\n432 5880\n433 5880\n434 5880\n435 5880\n436 5880\n437 5880\n438 5880\n439 5880\n440 5880\n441 5880\n442 5880\n443 5880\n444 5880\n445 5880\n446 5880\n"
     ]
    },
    {
     "name": "stdout",
     "output_type": "stream",
     "text": [
      "447 5880\n448 5880\n449 5880\n450 5880\n451 5880\n452 5880\n453 5880\n454 5880\n455 5880\n456 5880\n457 5880\n458 5880\n459 5880\n460 5880\n461 5880\n462 5880\n463 5880\n464 5880\n"
     ]
    },
    {
     "name": "stdout",
     "output_type": "stream",
     "text": [
      "465 5880\n466 5880\n467 5880\n468 5880\n469 5880\n470 5880\n471 5880\n472 5880\n473 5880\n474 5880\n475 5880\n476 5880\n477 5880\n478 5880\n479 5880\n480 5880\n481 5880\n"
     ]
    },
    {
     "name": "stdout",
     "output_type": "stream",
     "text": [
      "482 5880\n483 5880\n484 5880\n485 5880\n486 5880\n487 5880\n488 5880\n489 5880\n490 5880\n491 5880\n492 5880\n493 5880\n494 5880\n495 5880\n496 5880\n497 5880\n498 5880\n"
     ]
    },
    {
     "name": "stdout",
     "output_type": "stream",
     "text": [
      "499 5880\n500 5880\n501 5880\n502 5880\n503 5880\n504 5880\n505 5880\n506 5880\n507 5880\n508 5880\n509 5880\n510 5880\n511 5880\n512 5880\n513 5880\n514 5880\n515 5880\n"
     ]
    },
    {
     "name": "stdout",
     "output_type": "stream",
     "text": [
      "516 5880\n517 5880\n518 5880\n519 5880\n520 5880\n521 5880\n522 5880\n523 5880\n524 5880\n525 5880\n526 5880\n527 5880\n528 5880\n529 5880\n530 5880\n531 5880\n532 5880\n"
     ]
    },
    {
     "name": "stdout",
     "output_type": "stream",
     "text": [
      "533 5880\n534 5880\n535 5880\n536 5880\n537 5880\n538 5880\n539 5880\n540 5880\n541 5880\n542 5880\n543 5880\n544 5880\n545 5880\n546 5880\n547 5880\n548 5880\n549 5880\n550 5880\n"
     ]
    },
    {
     "name": "stdout",
     "output_type": "stream",
     "text": [
      "551 5880\n552 5880\n553 5880\n554 5880\n555 5880\n556 5880\n557 5880\n558 5880\n559 5880\n560 5880\n561 5880\n562 5880\n563 5880\n564 5880\n565 5880\n566 5880\n567 5880\n568 5880\n"
     ]
    },
    {
     "name": "stdout",
     "output_type": "stream",
     "text": [
      "569 5880\n570 5880\n571 5880\n572 5880\n573 5880\n574 5880\n575 5880\n576 5880\n577 5880\n578 5880\n579 5880\n580 5880\n581 5880\n582 5880\n583 5880\n584 5880\n585 5880\n"
     ]
    },
    {
     "name": "stdout",
     "output_type": "stream",
     "text": [
      "586 5880\n587 5880\n588 5880\n589 5880\n590 5880\n591 5880\n592 5880\n593 5880\n594 5880\n595 5880\n596 5880\n597 5880\n598 5880\n599 5880\n600 5880\n601 5880\n602 5880\n"
     ]
    },
    {
     "name": "stdout",
     "output_type": "stream",
     "text": [
      "603 5880\n604 5880\n605 5880\n606 5880\n607 5880\n608 5880\n609 5880\n610 5880\n611 5880\n612 5880\n613 5880\n614 5880\n615 5880\n616 5880\n617 5880\n618 5880\n619 5880\n"
     ]
    },
    {
     "name": "stdout",
     "output_type": "stream",
     "text": [
      "620 5880\n621 5880\n622 5880\n623 5880\n624 5880\n625 5880\n626 5880\n627 5880\n628 5880\n629 5880\n630 5880\n631 5880\n632 5880\n633 5880\n634 5880\n635 5880\n"
     ]
    },
    {
     "name": "stdout",
     "output_type": "stream",
     "text": [
      "636 5880\n637 5880\n638 5880\n639 5880\n640 5880\n641 5880\n642 5880\n643 5880\n644 5880\n645 5880\n646 5880\n647 5880\n648 5880\n649 5880\n650 5880\n651 5880\n652 5880\n653 5880\n"
     ]
    },
    {
     "name": "stdout",
     "output_type": "stream",
     "text": [
      "654 5880\n655 5880\n656 5880\n657 5880\n658 5880\n659 5880\n660 5880\n661 5880\n662 5880\n663 5880\n664 5880\n665 5880\n666 5880\n667 5880\n668 5880\n669 5880\n670 5880\n671 5880\n"
     ]
    },
    {
     "name": "stdout",
     "output_type": "stream",
     "text": [
      "672 5880\n673 5880\n674 5880\n675 5880\n676 5880\n677 5880\n678 5880\n679 5880\n680 5880\n681 5880\n682 5880\n683 5880\n684 5880\n685 5880\n686 5880\n687 5880\n688 5880\n"
     ]
    },
    {
     "name": "stdout",
     "output_type": "stream",
     "text": [
      "689 5880\n690 5880\n691 5880\n692 5880\n693 5880\n694 5880\n695 5880\n696 5880\n697 5880\n698 5880\n699 5880\n700 5880\n701 5880\n702 5880\n703 5880\n704 5880\n705 5880\n706 5880\n"
     ]
    },
    {
     "name": "stdout",
     "output_type": "stream",
     "text": [
      "707 5880\n708 5880\n709 5880\n710 5880\n711 5880\n712 5880\n713 5880\n714 5880\n715 5880\n716 5880\n717 5880\n718 5880\n719 5880\n720 5880\n721 5880\n722 5880\n723 5880\n724 5880\n"
     ]
    },
    {
     "name": "stdout",
     "output_type": "stream",
     "text": [
      "725 5880\n726 5880\n727 5880\n728 5880\n729 5880\n730 5880\n731 5880\n732 5880\n733 5880\n734 5880\n735 5880\n736 5880\n737 5880\n738 5880\n739 5880\n740 5880\n741 5880\n742 5880\n"
     ]
    },
    {
     "name": "stdout",
     "output_type": "stream",
     "text": [
      "743 5880\n744 5880\n745 5880\n746 5880\n747 5880\n748 5880\n749 5880\n750 5880\n751 5880\n752 5880\n753 5880\n754 5880\n755 5880\n756 5880\n757 5880\n758 5880\n"
     ]
    },
    {
     "name": "stdout",
     "output_type": "stream",
     "text": [
      "759 5880\n760 5880\n761 5880\n762 5880\n763 5880\n764 5880\n765 5880\n766 5880\n767 5880\n768 5880\n769 5880\n770 5880\n771 5880\n772 5880\n773 5880\n"
     ]
    },
    {
     "name": "stdout",
     "output_type": "stream",
     "text": [
      "774 5880\n775 5880\n776 5880\n777 5880\n778 5880\n779 5880\n780 5880\n781 5880\n782 5880\n783 5880\n784 5880\n785 5880\n786 5880\n787 5880\n788 5880\n"
     ]
    },
    {
     "name": "stdout",
     "output_type": "stream",
     "text": [
      "789 5880\n790 5880\n791 5880\n792 5880\n793 5880\n794 5880\n795 5880\n796 5880\n797 5880\n798 5880\n799 5880\n800 5880\n801 5880\n802 5880\n803 5880\n804 5880\n805 5880\n"
     ]
    },
    {
     "name": "stdout",
     "output_type": "stream",
     "text": [
      "806 5880\n807 5880\n808 5880\n809 5880\n810 5880\n811 5880\n812 5880\n813 5880\n814 5880\n815 5880\n816 5880\n817 5880\n818 5880\n819 5880\n820 5880\n821 5880\n822 5880\n"
     ]
    },
    {
     "name": "stdout",
     "output_type": "stream",
     "text": [
      "823 5880\n824 5880\n825 5880\n826 5880\n827 5880\n828 5880\n829 5880\n830 5880\n831 5880\n832 5880\n833 5880\n834 5880\n835 5880\n836 5880\n837 5880\n838 5880\n839 5880\n"
     ]
    },
    {
     "name": "stdout",
     "output_type": "stream",
     "text": [
      "840 5880\n841 5880\n842 5880\n843 5880\n844 5880\n845 5880\n846 5880\n847 5880\n848 5880\n849 5880\n850 5880\n851 5880\n852 5880\n853 5880\n854 5880\n855 5880\n856 5880\n"
     ]
    },
    {
     "name": "stdout",
     "output_type": "stream",
     "text": [
      "857 5880\n858 5880\n859 5880\n860 5880\n861 5880\n862 5880\n863 5880\n864 5880\n865 5880\n866 5880\n867 5880\n868 5880\n869 5880\n870 5880\n871 5880\n872 5880\n873 5880\n"
     ]
    },
    {
     "name": "stdout",
     "output_type": "stream",
     "text": [
      "874 5880\n875 5880\n876 5880\n877 5880\n878 5880\n879 5880\n880 5880\n881 5880\n882 5880\n883 5880\n884 5880\n885 5880\n886 5880\n887 5880\n888 5880\n889 5880\n890 5880\n"
     ]
    },
    {
     "name": "stdout",
     "output_type": "stream",
     "text": [
      "891 5880\n892 5880\n893 5880\n894 5880\n895 5880\n896 5880\n897 5880\n898 5880\n899 5880\n900 5880\n901 5880\n902 5880\n903 5880\n904 5880\n905 5880\n906 5880\n907 5880\n"
     ]
    },
    {
     "name": "stdout",
     "output_type": "stream",
     "text": [
      "908 5880\n909 5880\n910 5880\n911 5880\n912 5880\n913 5880\n914 5880\n915 5880\n916 5880\n917 5880\n918 5880\n919 5880\n920 5880\n921 5880\n922 5880\n923 5880\n"
     ]
    },
    {
     "name": "stdout",
     "output_type": "stream",
     "text": [
      "924 5880\n925 5880\n926 5880\n927 5880\n928 5880\n929 5880\n930 5880\n931 5880\n932 5880\n933 5880\n934 5880\n935 5880\n936 5880\n937 5880\n938 5880\n939 5880\n940 5880\n"
     ]
    },
    {
     "name": "stdout",
     "output_type": "stream",
     "text": [
      "941 5880\n942 5880\n943 5880\n944 5880\n945 5880\n946 5880\n947 5880\n948 5880\n949 5880\n950 5880\n951 5880\n952 5880\n953 5880\n954 5880\n955 5880\n956 5880\n"
     ]
    },
    {
     "name": "stdout",
     "output_type": "stream",
     "text": [
      "957 5880\n958 5880\n959 5880\n960 5880\n961 5880\n962 5880\n963 5880\n964 5880\n965 5880\n966 5880\n967 5880\n968 5880\n969 5880\n970 5880\n971 5880\n972 5880\n973 5880\n974 5880\n"
     ]
    },
    {
     "name": "stdout",
     "output_type": "stream",
     "text": [
      "975 5880\n976 5880\n977 5880\n978 5880\n979 5880\n980 5880\n981 5880\n982 5880\n983 5880\n984 5880\n985 5880\n986 5880\n987 5880\n988 5880\n989 5880\n990 5880\n"
     ]
    },
    {
     "name": "stdout",
     "output_type": "stream",
     "text": [
      "991 5880\n992 5880\n993 5880\n994 5880\n995 5880\n996 5880\n997 5880\n998 5880\n999 5880\n1000 5880\n1001 5880\n1002 5880\n1003 5880\n1004 5880\n1005 5880\n1006 5880\n1007 5880\n"
     ]
    },
    {
     "name": "stdout",
     "output_type": "stream",
     "text": [
      "1008 5880\n1009 5880\n1010 5880\n1011 5880\n1012 5880\n1013 5880\n1014 5880\n1015 5880\n1016 5880\n1017 5880\n1018 5880\n1019 5880\n1020 5880\n1021 5880\n1022 5880\n1023 5880\n1024 5880\n"
     ]
    },
    {
     "name": "stdout",
     "output_type": "stream",
     "text": [
      "1025 5880\n1026 5880\n1027 5880\n1028 5880\n1029 5880\n1030 5880\n1031 5880\n1032 5880\n1033 5880\n1034 5880\n1035 5880\n1036 5880\n1037 5880\n1038 5880\n1039 5880\n1040 5880\n1041 5880\n"
     ]
    },
    {
     "name": "stdout",
     "output_type": "stream",
     "text": [
      "1042 5880\n1043 5880\n1044 5880\n1045 5880\n1046 5880\n1047 5880\n1048 5880\n1049 5880\n1050 5880\n1051 5880\n1052 5880\n1053 5880\n1054 5880\n1055 5880\n1056 5880\n1057 5880\n1058 5880\n1059 5880\n"
     ]
    },
    {
     "name": "stdout",
     "output_type": "stream",
     "text": [
      "1060 5880\n1061 5880\n1062 5880\n1063 5880\n1064 5880\n1065 5880\n1066 5880\n1067 5880\n1068 5880\n1069 5880\n1070 5880\n1071 5880\n1072 5880\n1073 5880\n1074 5880\n1075 5880\n1076 5880\n1077 5880\n"
     ]
    },
    {
     "name": "stdout",
     "output_type": "stream",
     "text": [
      "1078 5880\n1079 5880\n1080 5880\n1081 5880\n1082 5880\n1083 5880\n1084 5880\n1085 5880\n1086 5880\n1087 5880\n1088 5880\n1089 5880\n1090 5880\n1091 5880\n1092 5880\n1093 5880\n"
     ]
    },
    {
     "name": "stdout",
     "output_type": "stream",
     "text": [
      "1094 5880\n1095 5880\n1096 5880\n1097 5880\n1098 5880\n1099 5880\n1100 5880\n1101 5880\n1102 5880\n1103 5880\n1104 5880\n1105 5880\n1106 5880\n1107 5880\n1108 5880\n1109 5880\n"
     ]
    },
    {
     "name": "stdout",
     "output_type": "stream",
     "text": [
      "1110 5880\n1111 5880\n1112 5880\n1113 5880\n1114 5880\n1115 5880\n1116 5880\n1117 5880\n1118 5880\n1119 5880\n1120 5880\n1121 5880\n1122 5880\n1123 5880\n"
     ]
    },
    {
     "name": "stdout",
     "output_type": "stream",
     "text": [
      "1124 5880\n1125 5880\n1126 5880\n1127 5880\n1128 5880\n1129 5880\n1130 5880\n1131 5880\n1132 5880\n1133 5880\n1134 5880\n1135 5880\n1136 5880\n1137 5880\n1138 5880\n1139 5880\n1140 5880\n"
     ]
    },
    {
     "name": "stdout",
     "output_type": "stream",
     "text": [
      "1141 5880\n1142 5880\n1143 5880\n1144 5880\n1145 5880\n1146 5880\n1147 5880\n1148 5880\n1149 5880\n1150 5880\n1151 5880\n1152 5880\n1153 5880\n1154 5880\n1155 5880\n1156 5880\n"
     ]
    },
    {
     "name": "stdout",
     "output_type": "stream",
     "text": [
      "1157 5880\n1158 5880\n1159 5880\n1160 5880\n1161 5880\n1162 5880\n1163 5880\n1164 5880\n1165 5880\n1166 5880\n1167 5880\n1168 5880\n1169 5880\n1170 5880\n1171 5880\n1172 "
     ]
    },
    {
     "name": "stdout",
     "output_type": "stream",
     "text": [
      "5880\n1173 5880\n1174 5880\n1175 5880\n1176 5880\n1177 5880\n1178 5880\n1179 5880\n1180 5880\n1181 5880\n1182 5880\n1183 5880\n1184 5880\n1185 5880\n1186 5880\n1187 5880\n"
     ]
    },
    {
     "name": "stdout",
     "output_type": "stream",
     "text": [
      "1188 5880\n1189 5880\n1190 5880\n1191 5880\n1192 5880\n1193 5880\n1194 5880\n1195 5880\n1196 5880\n1197 5880\n1198 5880\n1199 5880\n1200 5880\n1201 5880\n1202 5880\n1203 5880\n1204 5880\n1205 5880\n"
     ]
    },
    {
     "name": "stdout",
     "output_type": "stream",
     "text": [
      "1206 5880\n1207 5880\n1208 5880\n1209 5880\n1210 5880\n1211 5880\n1212 5880\n1213 5880\n1214 5880\n1215 5880\n1216 5880\n1217 5880\n1218 5880\n1219 5880\n1220 5880\n1221 5880\n1222 5880\n"
     ]
    },
    {
     "name": "stdout",
     "output_type": "stream",
     "text": [
      "1223 5880\n1224 5880\n1225 5880\n1226 5880\n1227 5880\n1228 5880\n1229 5880\n1230 5880\n1231 5880\n1232 5880\n1233 5880\n1234 5880\n1235 5880\n1236 5880\n1237 5880\n1238 5880\n"
     ]
    },
    {
     "name": "stdout",
     "output_type": "stream",
     "text": [
      "1239 5880\n1240 5880\n1241 5880\n1242 5880\n1243 5880\n1244 5880\n1245 5880\n1246 5880\n1247 5880\n1248 5880\n1249 5880\n1250 5880\n1251 5880\n1252 5880\n1253 5880\n1254 5880\n1255 5880\n"
     ]
    },
    {
     "name": "stdout",
     "output_type": "stream",
     "text": [
      "1256 5880\n1257 5880\n1258 5880\n1259 5880\n1260 5880\n1261 5880\n1262 5880\n1263 5880\n1264 5880\n1265 5880\n1266 5880\n1267 5880\n1268 5880\n1269 5880\n1270 5880\n1271 5880\n1272 5880\n"
     ]
    },
    {
     "name": "stdout",
     "output_type": "stream",
     "text": [
      "1273 5880\n1274 5880\n1275 5880\n1276 5880\n1277 5880\n1278 5880\n1279 5880\n1280 5880\n1281 5880\n1282 5880\n1283 5880\n1284 5880\n1285 5880\n1286 5880\n1287 5880\n1288 5880\n1289 5880\n1290 5880\n"
     ]
    },
    {
     "name": "stdout",
     "output_type": "stream",
     "text": [
      "1291 5880\n1292 5880\n1293 5880\n1294 5880\n1295 5880\n1296 5880\n1297 5880\n1298 5880\n1299 5880\n1300 5880\n1301 5880\n1302 5880\n1303 5880\n1304 5880\n1305 5880\n1306 5880\n1307 5880\n1308 5880\n"
     ]
    },
    {
     "name": "stdout",
     "output_type": "stream",
     "text": [
      "1309 5880\n1310 5880\n1311 5880\n1312 5880\n1313 5880\n1314 5880\n1315 5880\n1316 5880\n1317 5880\n1318 5880\n1319 5880\n1320 5880\n1321 5880\n1322 5880\n1323 5880\n1324 5880\n1325 5880\n1326 5880\n"
     ]
    },
    {
     "name": "stdout",
     "output_type": "stream",
     "text": [
      "1327 5880\n1328 5880\n1329 5880\n1330 5880\n1331 5880\n1332 5880\n1333 5880\n1334 5880\n1335 5880\n1336 5880\n1337 5880\n1338 5880\n1339 5880\n1340 5880\n1341 5880\n1342 5880\n"
     ]
    },
    {
     "name": "stdout",
     "output_type": "stream",
     "text": [
      "1343 5880\n1344 5880\n1345 5880\n1346 5880\n1347 5880\n1348 5880\n1349 5880\n1350 5880\n1351 5880\n1352 5880\n1353 5880\n1354 5880\n1355 5880\n1356 5880\n1357 5880\n1358 5880\n1359 5880\n"
     ]
    },
    {
     "name": "stdout",
     "output_type": "stream",
     "text": [
      "1360 5880\n1361 5880\n1362 5880\n1363 5880\n1364 5880\n1365 5880\n1366 5880\n1367 5880\n1368 5880\n1369 5880\n1370 5880\n1371 5880\n1372 5880\n1373 5880\n1374 5880\n1375 5880\n1376 5880\n1377 5880\n"
     ]
    },
    {
     "name": "stdout",
     "output_type": "stream",
     "text": [
      "1378 5880\n1379 5880\n1380 5880\n1381 5880\n1382 5880\n1383 5880\n1384 5880\n1385 5880\n1386 5880\n1387 5880\n1388 5880\n1389 5880\n1390 5880\n1391 5880\n1392 5880\n1393 5880\n1394 5880\n1395 5880\n"
     ]
    },
    {
     "name": "stdout",
     "output_type": "stream",
     "text": [
      "1396 5880\n1397 5880\n1398 5880\n1399 5880\n1400 5880\n1401 5880\n1402 5880\n1403 5880\n1404 5880\n1405 5880\n1406 5880\n1407 5880\n1408 5880\n1409 5880\n1410 5880\n1411 5880\n1412 5880\n"
     ]
    },
    {
     "name": "stdout",
     "output_type": "stream",
     "text": [
      "1413 5880\n1414 5880\n1415 5880\n1416 5880\n1417 5880\n1418 5880\n1419 5880\n1420 5880\n1421 5880\n1422 5880\n1423 5880\n1424 5880\n1425 5880\n1426 5880\n1427 5880\n1428 5880\n1429 5880\n"
     ]
    },
    {
     "name": "stdout",
     "output_type": "stream",
     "text": [
      "1430 5880\n1431 5880\n1432 5880\n1433 5880\n1434 5880\n1435 5880\n1436 5880\n1437 5880\n1438 5880\n1439 5880\n1440 5880\n1441 5880\n1442 5880\n1443 5880\n1444 5880\n1445 5880\n1446 5880\n"
     ]
    },
    {
     "name": "stdout",
     "output_type": "stream",
     "text": [
      "1447 5880\n1448 5880\n1449 5880\n1450 5880\n1451 5880\n1452 5880\n1453 5880\n1454 5880\n1455 5880\n1456 5880\n1457 5880\n1458 5880\n1459 5880\n1460 5880\n1461 5880\n1462 5880\n1463 5880\n"
     ]
    },
    {
     "name": "stdout",
     "output_type": "stream",
     "text": [
      "1464 5880\n1465 5880\n1466 5880\n1467 5880\n1468 5880\n1469 5880\n1470 5880\n1471 5880\n1472 5880\n1473 5880\n1474 5880\n1475 5880\n1476 5880\n1477 5880\n1478 5880\n1479 5880\n1480 5880\n1481 5880\n"
     ]
    },
    {
     "name": "stdout",
     "output_type": "stream",
     "text": [
      "1482 5880\n1483 5880\n1484 5880\n1485 5880\n1486 5880\n1487 5880\n1488 5880\n1489 5880\n1490 5880\n1491 5880\n1492 5880\n1493 5880\n1494 5880\n1495 5880\n1496 5880\n1497 5880\n1498 5880\n"
     ]
    },
    {
     "name": "stdout",
     "output_type": "stream",
     "text": [
      "1499 5880\n1500 5880\n1501 5880\n1502 5880\n1503 5880\n1504 5880\n1505 5880\n1506 5880\n1507 5880\n1508 5880\n1509 5880\n1510 5880\n1511 5880\n1512 5880\n1513 5880\n1514 5880\n1515 5880\n1516 5880\n"
     ]
    },
    {
     "name": "stdout",
     "output_type": "stream",
     "text": [
      "1517 5880\n1518 5880\n1519 5880\n1520 5880\n1521 5880\n1522 5880\n1523 5880\n1524 5880\n1525 5880\n1526 5880\n1527 5880\n1528 5880\n1529 5880\n1530 5880\n1531 5880\n1532 5880\n1533 5880\n1534 5880\n"
     ]
    },
    {
     "name": "stdout",
     "output_type": "stream",
     "text": [
      "1535 5880\n1536 5880\n1537 5880\n1538 5880\n1539 5880\n1540 5880\n1541 5880\n1542 5880\n1543 5880\n1544 5880\n1545 5880\n1546 5880\n1547 5880\n1548 5880\n1549 5880\n1550 5880\n1551 5880\n"
     ]
    },
    {
     "name": "stdout",
     "output_type": "stream",
     "text": [
      "1552 5880\n1553 5880\n1554 5880\n1555 5880\n1556 5880\n1557 5880\n1558 5880\n1559 5880\n1560 5880\n1561 5880\n1562 5880\n1563 5880\n1564 5880\n1565 5880\n1566 5880\n1567 5880\n"
     ]
    },
    {
     "name": "stdout",
     "output_type": "stream",
     "text": [
      "1568 5880\n1569 5880\n1570 5880\n1571 5880\n1572 5880\n1573 5880\n1574 5880\n1575 5880\n1576 5880\n1577 5880\n1578 5880\n1579 5880\n1580 5880\n1581 5880\n1582 5880\n1583 5880\n1584 5880\n"
     ]
    },
    {
     "name": "stdout",
     "output_type": "stream",
     "text": [
      "1585 5880\n1586 5880\n1587 5880\n1588 5880\n1589 5880\n1590 5880\n1591 5880\n1592 5880\n1593 5880\n1594 5880\n1595 5880\n1596 5880\n1597 5880\n1598 5880\n1599 5880\n1600 5880\n1601 5880\n"
     ]
    },
    {
     "name": "stdout",
     "output_type": "stream",
     "text": [
      "1602 5880\n1603 5880\n1604 5880\n1605 5880\n1606 5880\n1607 5880\n1608 5880\n1609 5880\n1610 5880\n1611 5880\n1612 5880\n1613 5880\n1614 5880\n1615 5880\n1616 5880\n1617 5880\n"
     ]
    },
    {
     "name": "stdout",
     "output_type": "stream",
     "text": [
      "1618 5880\n1619 5880\n1620 5880\n1621 5880\n1622 5880\n1623 5880\n1624 5880\n1625 5880\n1626 5880\n1627 5880\n1628 5880\n1629 5880\n1630 5880\n1631 5880\n1632 5880\n1633 5880\n1634 5880\n"
     ]
    },
    {
     "name": "stdout",
     "output_type": "stream",
     "text": [
      "1635 5880\n1636 5880\n1637 5880\n1638 5880\n1639 5880\n1640 5880\n1641 5880\n1642 5880\n1643 5880\n1644 5880\n1645 5880\n1646 5880\n1647 5880\n1648 5880\n1649 5880\n1650 5880\n1651 5880\n"
     ]
    },
    {
     "name": "stdout",
     "output_type": "stream",
     "text": [
      "1652 5880\n1653 5880\n1654 5880\n1655 5880\n1656 5880\n1657 5880\n1658 5880\n1659 5880\n1660 5880\n1661 5880\n1662 5880\n1663 5880\n1664 5880\n1665 5880\n1666 5880\n1667 5880\n1668 5880\n"
     ]
    },
    {
     "name": "stdout",
     "output_type": "stream",
     "text": [
      "1669 5880\n1670 5880\n1671 5880\n1672 5880\n1673 5880\n1674 5880\n1675 5880\n1676 5880\n1677 5880\n1678 5880\n1679 5880\n1680 5880\n1681 5880\n1682 5880\n1683 5880\n1684 5880\n1685 5880\n"
     ]
    },
    {
     "name": "stdout",
     "output_type": "stream",
     "text": [
      "1686 5880\n1687 5880\n1688 5880\n1689 5880\n1690 5880\n1691 5880\n1692 5880\n1693 5880\n1694 5880\n1695 5880\n1696 5880\n1697 5880\n1698 5880\n1699 5880\n1700 5880\n1701 5880\n1702 5880\n1703 5880\n"
     ]
    },
    {
     "name": "stdout",
     "output_type": "stream",
     "text": [
      "1704 5880\n1705 5880\n1706 5880\n1707 5880\n1708 5880\n1709 5880\n1710 5880\n1711 5880\n1712 5880\n1713 5880\n1714 5880\n1715 5880\n1716 5880\n1717 5880\n1718 5880\n1719 5880\n1720 5880\n"
     ]
    },
    {
     "name": "stdout",
     "output_type": "stream",
     "text": [
      "1721 5880\n1722 5880\n1723 5880\n1724 5880\n1725 5880\n1726 5880\n1727 5880\n1728 5880\n1729 5880\n1730 5880\n1731 5880\n1732 5880\n1733 5880\n1734 5880\n1735 5880\n1736 5880\n1737 5880\n1738 5880\n"
     ]
    },
    {
     "name": "stdout",
     "output_type": "stream",
     "text": [
      "1739 5880\n1740 5880\n1741 5880\n1742 5880\n1743 5880\n1744 5880\n1745 5880\n1746 5880\n1747 5880\n1748 5880\n1749 5880\n1750 5880\n1751 5880\n1752 5880\n1753 5880\n1754 5880\n1755 5880\n"
     ]
    },
    {
     "name": "stdout",
     "output_type": "stream",
     "text": [
      "1756 5880\n1757 5880\n1758 5880\n1759 5880\n1760 5880\n1761 5880\n1762 5880\n1763 5880\n1764 5880\n1765 5880\n1766 5880\n1767 5880\n1768 5880\n1769 5880\n1770 5880\n1771 5880\n1772 5880\n1773 5880\n"
     ]
    },
    {
     "name": "stdout",
     "output_type": "stream",
     "text": [
      "1774 5880\n1775 5880\n1776 5880\n1777 5880\n1778 5880\n1779 5880\n1780 5880\n1781 5880\n1782 5880\n1783 5880\n1784 5880\n1785 5880\n1786 5880\n1787 5880\n1788 5880\n1789 5880\n1790 5880\n"
     ]
    },
    {
     "name": "stdout",
     "output_type": "stream",
     "text": [
      "1791 5880\n1792 5880\n1793 5880\n1794 5880\n1795 5880\n1796 5880\n1797 5880\n1798 5880\n1799 5880\n1800 5880\n1801 5880\n1802 5880\n1803 5880\n1804 5880\n1805 5880\n1806 5880\n1807 5880\n1808 5880\n"
     ]
    },
    {
     "name": "stdout",
     "output_type": "stream",
     "text": [
      "1809 5880\n1810 5880\n1811 5880\n1812 5880\n1813 5880\n1814 5880\n1815 5880\n1816 5880\n1817 5880\n1818 5880\n1819 5880\n1820 5880\n1821 5880\n1822 5880\n1823 5880\n1824 5880\n1825 5880\n"
     ]
    },
    {
     "name": "stdout",
     "output_type": "stream",
     "text": [
      "1826 5880\n1827 5880\n1828 5880\n1829 5880\n1830 5880\n1831 5880\n1832 5880\n1833 5880\n1834 5880\n1835 5880\n1836 5880\n1837 5880\n1838 5880\n1839 5880\n1840 5880\n1841 5880\n1842 5880\n"
     ]
    },
    {
     "name": "stdout",
     "output_type": "stream",
     "text": [
      "1843 5880\n1844 5880\n1845 5880\n1846 5880\n1847 5880\n1848 5880\n1849 5880\n1850 5880\n1851 5880\n1852 5880\n1853 5880\n1854 5880\n1855 5880\n1856 5880\n1857 5880\n1858 5880\n1859 5880\n"
     ]
    },
    {
     "name": "stdout",
     "output_type": "stream",
     "text": [
      "1860 5880\n1861 5880\n1862 5880\n1863 5880\n1864 5880\n1865 5880\n1866 5880\n1867 5880\n1868 5880\n1869 5880\n1870 5880\n1871 5880\n1872 5880\n1873 5880\n1874 5880\n1875 5880\n1876 5880\n"
     ]
    },
    {
     "name": "stdout",
     "output_type": "stream",
     "text": [
      "1877 5880\n1878 5880\n1879 5880\n1880 5880\n1881 5880\n1882 5880\n1883 5880\n1884 5880\n1885 5880\n1886 5880\n1887 5880\n1888 5880\n1889 5880\n1890 5880\n1891 5880\n1892 5880\n"
     ]
    },
    {
     "name": "stdout",
     "output_type": "stream",
     "text": [
      "1893 5880\n1894 5880\n1895 5880\n1896 5880\n1897 5880\n1898 5880\n1899 5880\n1900 5880\n1901 5880\n1902 5880\n1903 5880\n1904 5880\n1905 5880\n1906 5880\n1907 5880\n1908 5880\n1909 5880\n"
     ]
    },
    {
     "name": "stdout",
     "output_type": "stream",
     "text": [
      "1910 5880\n1911 5880\n1912 5880\n1913 5880\n1914 5880\n1915 5880\n1916 5880\n1917 5880\n1918 5880\n1919 5880\n1920 5880\n1921 5880\n1922 5880\n1923 5880\n1924 5880\n1925 5880\n1926 5880\n1927 5880\n"
     ]
    },
    {
     "name": "stdout",
     "output_type": "stream",
     "text": [
      "1928 5880\n1929 5880\n1930 5880\n1931 5880\n1932 5880\n1933 5880\n1934 5880\n1935 5880\n1936 5880\n1937 5880\n1938 5880\n1939 5880\n1940 5880\n1941 5880\n1942 5880\n1943 5880\n1944 5880\n"
     ]
    },
    {
     "name": "stdout",
     "output_type": "stream",
     "text": [
      "1945 5880\n1946 5880\n1947 5880\n1948 5880\n1949 5880\n1950 5880\n1951 5880\n1952 5880\n1953 5880\n1954 5880\n1955 5880\n1956 5880\n1957 5880\n1958 5880\n1959 5880\n1960 5880\n1961 5880\n1962 5880\n"
     ]
    },
    {
     "name": "stdout",
     "output_type": "stream",
     "text": [
      "1963 5880\n1964 5880\n1965 5880\n1966 5880\n1967 5880\n1968 5880\n1969 5880\n1970 5880\n1971 5880\n1972 5880\n1973 5880\n1974 5880\n1975 5880\n1976 5880\n1977 5880\n1978 5880\n"
     ]
    },
    {
     "name": "stdout",
     "output_type": "stream",
     "text": [
      "1979 5880\n1980 5880\n1981 5880\n1982 5880\n1983 5880\n1984 5880\n1985 5880\n1986 5880\n1987 5880\n1988 5880\n1989 5880\n1990 5880\n1991 5880\n1992 5880\n1993 5880\n1994 5880\n"
     ]
    },
    {
     "name": "stdout",
     "output_type": "stream",
     "text": [
      "1995 5880\n1996 5880\n1997 5880\n1998 5880\n1999 5880\n2000 5880\n\n \u001b[32mEXECUTED BLOCK AT 18:1:53\u001b[0m\n"
     ]
    }
   ],
   "source": [
    "print(\"Extracting features from traffic signs...\")\n",
    "\n",
    "i = 0\n",
    "# for img in tqdm(positive_images):\n",
    "for img in positive_images[:2000]:\n",
    "    #positive_features.append(extractor.features(img)) \n",
    "    #i+=1\n",
    "    #print(i, len(positive_images))\n",
    "    \n",
    "print_executed()\n"
   ]
  },
  {
   "cell_type": "code",
   "execution_count": 60,
   "metadata": {},
   "outputs": [
    {
     "name": "stdout",
     "output_type": "stream",
     "text": [
      "Extracting features from non traffic signs...\n1 3900\n2 3900\n3 3900\n4 3900\n5 3900\n6 3900\n7 3900\n8 3900\n9 3900\n10 3900\n11 3900\n12 3900\n13 3900\n"
     ]
    },
    {
     "name": "stdout",
     "output_type": "stream",
     "text": [
      "14 3900\n15 3900\n16 3900\n17 3900\n18 3900\n19 3900\n20 3900\n21 3900\n22 3900\n23 3900\n24 3900\n25 3900\n26 3900\n27 3900\n28 3900\n"
     ]
    },
    {
     "name": "stdout",
     "output_type": "stream",
     "text": [
      "29 3900\n30 3900\n31 3900\n32 3900\n33 3900\n34 3900\n35 3900\n36 3900\n37 3900\n38 3900\n39 3900\n40 3900\n41 3900\n42 3900\n43 3900\n44 3900\n"
     ]
    },
    {
     "name": "stdout",
     "output_type": "stream",
     "text": [
      "45 3900\n46 3900\n47 3900\n48 3900\n49 3900\n50 3900\n51 3900\n52 3900\n53 3900\n54 3900\n55 3900\n56 3900\n57 3900\n58 3900\n59 3900\n60 3900\n61 3900\n62 3900\n"
     ]
    },
    {
     "name": "stdout",
     "output_type": "stream",
     "text": [
      "63 3900\n64 3900\n65 3900\n66 3900\n67 3900\n68 3900\n69 3900\n70 3900\n71 3900\n72 3900\n73 3900\n74 3900\n75 3900\n76 3900\n77 3900\n78 3900\n79 3900\n"
     ]
    },
    {
     "name": "stdout",
     "output_type": "stream",
     "text": [
      "80 3900\n81 3900\n82 3900\n83 3900\n84 3900\n85 3900\n86 3900\n87 3900\n88 3900\n89 3900\n90 3900\n91 3900\n92 3900\n93 3900\n94 3900\n95 3900\n"
     ]
    },
    {
     "name": "stdout",
     "output_type": "stream",
     "text": [
      "96 3900\n97 3900\n98 3900\n99 3900\n100 3900\n101 3900\n102 3900\n103 3900\n104 3900\n105 3900\n106 3900\n107 3900\n108 3900\n109 3900\n110 3900\n"
     ]
    },
    {
     "name": "stdout",
     "output_type": "stream",
     "text": [
      "111 3900\n112 3900\n113 3900\n114 3900\n115 3900\n116 3900\n117 3900\n118 3900\n119 3900\n120 3900\n121 3900\n122 3900\n123 3900\n124 3900\n125 3900\n"
     ]
    },
    {
     "name": "stdout",
     "output_type": "stream",
     "text": [
      "126 3900\n127 3900\n128 3900\n129 3900\n130 3900\n131 3900\n132 3900\n133 3900\n134 3900\n135 3900\n136 3900\n137 3900\n138 3900\n139 3900\n140 3900\n141 3900\n142 3900\n"
     ]
    },
    {
     "name": "stdout",
     "output_type": "stream",
     "text": [
      "143 3900\n144 3900\n145 3900\n146 3900\n147 3900\n148 3900\n149 3900\n150 3900\n151 3900\n152 3900\n153 3900\n154 3900\n155 3900\n156 3900\n157 3900\n158 3900\n159 3900\n"
     ]
    },
    {
     "name": "stdout",
     "output_type": "stream",
     "text": [
      "160 3900\n161 3900\n162 3900\n163 3900\n164 3900\n165 3900\n166 3900\n167 3900\n168 3900\n169 3900\n170 3900\n171 3900\n172 3900\n173 3900\n174 3900\n175 3900\n176 3900\n"
     ]
    },
    {
     "name": "stdout",
     "output_type": "stream",
     "text": [
      "177 3900\n178 3900\n179 3900\n180 3900\n181 3900\n182 3900\n183 3900\n184 3900\n185 3900\n186 3900\n187 3900\n188 3900\n189 3900\n190 3900\n191 3900\n192 3900\n193 3900\n"
     ]
    },
    {
     "name": "stdout",
     "output_type": "stream",
     "text": [
      "194 3900\n195 3900\n196 3900\n197 3900\n198 3900\n199 3900\n200 3900\n201 3900\n202 3900\n203 3900\n204 3900\n205 3900\n206 3900\n207 3900\n208 3900\n209 3900\n210 3900\n"
     ]
    },
    {
     "name": "stdout",
     "output_type": "stream",
     "text": [
      "211 3900\n212 3900\n213 3900\n214 3900\n215 3900\n216 3900\n217 3900\n218 3900\n219 3900\n220 3900\n221 3900\n222 3900\n223 3900\n224 3900\n225 3900\n226 3900\n"
     ]
    },
    {
     "name": "stdout",
     "output_type": "stream",
     "text": [
      "227 3900\n228 3900\n229 3900\n230 3900\n231 3900\n232 3900\n233 3900\n234 3900\n235 3900\n236 3900\n237 3900\n238 3900\n239 3900\n240 3900\n"
     ]
    },
    {
     "name": "stdout",
     "output_type": "stream",
     "text": [
      "241 3900\n242 3900\n243 3900\n244 3900\n245 3900\n246 3900\n247 3900\n248 3900\n249 3900\n250 3900\n251 3900\n252 3900\n253 3900\n254 3900\n"
     ]
    },
    {
     "name": "stdout",
     "output_type": "stream",
     "text": [
      "255 3900\n256 3900\n257 3900\n258 3900\n259 3900\n260 3900\n261 3900\n262 3900\n263 3900\n264 3900\n265 3900\n266 3900\n267 3900\n268 3900\n"
     ]
    },
    {
     "name": "stdout",
     "output_type": "stream",
     "text": [
      "269 3900\n270 3900\n271 3900\n272 3900\n273 3900\n274 3900\n275 3900\n276 3900\n277 3900\n278 3900\n279 3900\n280 3900\n281 3900\n282 3900\n"
     ]
    },
    {
     "name": "stdout",
     "output_type": "stream",
     "text": [
      "283 3900\n284 3900\n285 3900\n286 3900\n287 3900\n288 3900\n289 3900\n290 3900\n291 3900\n292 3900\n293 3900\n294 3900\n295 3900\n296 3900\n297 3900\n"
     ]
    },
    {
     "name": "stdout",
     "output_type": "stream",
     "text": [
      "298 3900\n299 3900\n300 3900\n301 3900\n302 3900\n303 3900\n304 3900\n305 3900\n306 3900\n307 3900\n308 3900\n309 3900\n310 3900\n311 3900\n"
     ]
    },
    {
     "name": "stdout",
     "output_type": "stream",
     "text": [
      "312 3900\n313 3900\n314 3900\n315 3900\n316 3900\n317 3900\n318 3900\n319 3900\n320 3900\n321 3900\n322 3900\n323 3900\n324 3900\n325 3900\n326 3900\n"
     ]
    },
    {
     "name": "stdout",
     "output_type": "stream",
     "text": [
      "327 3900\n328 3900\n329 3900\n330 3900\n331 3900\n332 3900\n333 3900\n334 3900\n335 3900\n336 3900\n337 3900\n338 3900\n339 3900\n340 3900\n"
     ]
    },
    {
     "name": "stdout",
     "output_type": "stream",
     "text": [
      "341 3900\n342 3900\n343 3900\n344 3900\n345 3900\n346 3900\n347 3900\n348 3900\n349 3900\n350 3900\n351 3900\n352 3900\n353 3900\n"
     ]
    },
    {
     "name": "stdout",
     "output_type": "stream",
     "text": [
      "354 3900\n355 3900\n356 3900\n357 3900\n358 3900\n359 3900\n360 3900\n361 3900\n362 3900\n363 3900\n364 3900\n365 3900\n366 3900\n367 3900\n368 3900\n"
     ]
    },
    {
     "name": "stdout",
     "output_type": "stream",
     "text": [
      "369 3900\n370 3900\n371 3900\n372 3900\n373 3900\n374 3900\n375 3900\n376 3900\n377 3900\n378 3900\n379 3900\n380 3900\n381 3900\n382 3900\n383 3900\n384 3900\n"
     ]
    },
    {
     "name": "stdout",
     "output_type": "stream",
     "text": [
      "385 3900\n386 3900\n387 3900\n388 3900\n389 3900\n390 3900\n391 3900\n392 3900\n393 3900\n394 3900\n395 3900\n396 3900\n397 3900\n398 3900\n399 3900\n400 3900\n"
     ]
    },
    {
     "name": "stdout",
     "output_type": "stream",
     "text": [
      "401 3900\n402 3900\n403 3900\n404 3900\n405 3900\n406 3900\n407 3900\n408 3900\n409 3900\n410 3900\n411 3900\n412 3900\n413 3900\n414 3900\n415 3900\n416 3900\n"
     ]
    },
    {
     "name": "stdout",
     "output_type": "stream",
     "text": [
      "417 3900\n418 3900\n419 3900\n420 3900\n421 3900\n422 3900\n423 3900\n424 3900\n425 3900\n426 3900\n427 3900\n428 3900\n429 3900\n430 3900\n431 3900\n"
     ]
    },
    {
     "name": "stdout",
     "output_type": "stream",
     "text": [
      "432 3900\n433 3900\n434 3900\n435 3900\n436 3900\n437 3900\n438 3900\n439 3900\n440 3900\n441 3900\n442 3900\n443 3900\n444 3900\n445 3900\n446 3900\n447 3900\n"
     ]
    },
    {
     "name": "stdout",
     "output_type": "stream",
     "text": [
      "448 3900\n449 3900\n450 3900\n451 3900\n452 3900\n453 3900\n454 3900\n455 3900\n456 3900\n457 3900\n458 3900\n459 3900\n460 3900\n461 3900\n462 3900\n463 3900\n464 3900\n"
     ]
    },
    {
     "name": "stdout",
     "output_type": "stream",
     "text": [
      "465 3900\n466 3900\n467 3900\n468 3900\n469 3900\n470 3900\n471 3900\n472 3900\n473 3900\n474 3900\n475 3900\n476 3900\n477 3900\n478 3900\n479 3900\n480 3900\n481 3900\n"
     ]
    },
    {
     "name": "stdout",
     "output_type": "stream",
     "text": [
      "482 3900\n483 3900\n484 3900\n485 3900\n486 3900\n487 3900\n488 3900\n489 3900\n490 3900\n491 3900\n492 3900\n493 3900\n494 3900\n495 3900\n496 3900\n"
     ]
    },
    {
     "name": "stdout",
     "output_type": "stream",
     "text": [
      "497 3900\n498 3900\n499 3900\n500 3900\n501 3900\n502 3900\n503 3900\n504 3900\n505 3900\n506 3900\n507 3900\n508 3900\n509 3900\n510 3900\n"
     ]
    },
    {
     "name": "stdout",
     "output_type": "stream",
     "text": [
      "511 3900\n512 3900\n513 3900\n514 3900\n515 3900\n516 3900\n517 3900\n518 3900\n519 3900\n520 3900\n521 3900\n522 3900\n523 3900\n524 3900\n525 3900\n526 3900\n527 3900\n"
     ]
    },
    {
     "name": "stdout",
     "output_type": "stream",
     "text": [
      "528 3900\n529 3900\n530 3900\n531 3900\n532 3900\n533 3900\n534 3900\n535 3900\n536 3900\n537 3900\n538 3900\n539 3900\n540 3900\n541 3900\n542 3900\n543 3900\n544 3900\n"
     ]
    },
    {
     "name": "stdout",
     "output_type": "stream",
     "text": [
      "545 3900\n546 3900\n547 3900\n548 3900\n549 3900\n550 3900\n551 3900\n552 3900\n553 3900\n554 3900\n555 3900\n556 3900\n557 3900\n558 3900\n559 3900\n560 3900\n"
     ]
    },
    {
     "name": "stdout",
     "output_type": "stream",
     "text": [
      "561 3900\n562 3900\n563 3900\n564 3900\n565 3900\n566 3900\n567 3900\n568 3900\n569 3900\n570 3900\n571 3900\n572 3900\n573 3900\n574 3900\n575 3900\n576 3900\n"
     ]
    },
    {
     "name": "stdout",
     "output_type": "stream",
     "text": [
      "577 3900\n578 3900\n579 3900\n580 3900\n581 3900\n582 3900\n583 3900\n584 3900\n585 3900\n586 3900\n587 3900\n588 3900\n589 3900\n590 3900\n591 3900\n592 3900\n593 3900\n"
     ]
    },
    {
     "name": "stdout",
     "output_type": "stream",
     "text": [
      "594 3900\n595 3900\n596 3900\n597 3900\n598 3900\n599 3900\n600 3900\n601 3900\n602 3900\n603 3900\n604 3900\n605 3900\n606 3900\n607 3900\n608 3900\n609 3900\n610 3900\n"
     ]
    },
    {
     "name": "stdout",
     "output_type": "stream",
     "text": [
      "611 3900\n612 3900\n613 3900\n614 3900\n615 3900\n616 3900\n617 3900\n618 3900\n619 3900\n620 3900\n621 3900\n622 3900\n623 3900\n624 3900\n625 3900\n626 3900\n627 3900\n"
     ]
    },
    {
     "name": "stdout",
     "output_type": "stream",
     "text": [
      "628 3900\n629 3900\n630 3900\n631 3900\n632 3900\n633 3900\n634 3900\n635 3900\n636 3900\n637 3900\n638 3900\n639 3900\n640 3900\n641 3900\n642 3900\n643 3900\n644 3900\n"
     ]
    },
    {
     "name": "stdout",
     "output_type": "stream",
     "text": [
      "645 3900\n646 3900\n647 3900\n648 3900\n649 3900\n650 3900\n651 3900\n652 3900\n653 3900\n654 3900\n655 3900\n656 3900\n657 3900\n658 3900\n659 3900\n660 3900\n661 3900\n662 3900\n"
     ]
    },
    {
     "name": "stdout",
     "output_type": "stream",
     "text": [
      "663 3900\n664 3900\n665 3900\n666 3900\n667 3900\n668 3900\n669 3900\n670 3900\n671 3900\n672 3900\n673 3900\n674 3900\n675 3900\n676 3900\n677 3900\n678 3900\n679 3900\n"
     ]
    },
    {
     "name": "stdout",
     "output_type": "stream",
     "text": [
      "680 3900\n681 3900\n682 3900\n683 3900\n684 3900\n685 3900\n686 3900\n687 3900\n688 3900\n689 3900\n690 3900\n691 3900\n692 3900\n693 3900\n694 3900\n695 3900\n"
     ]
    },
    {
     "name": "stdout",
     "output_type": "stream",
     "text": [
      "696 3900\n697 3900\n698 3900\n699 3900\n700 3900\n701 3900\n702 3900\n703 3900\n704 3900\n705 3900\n706 3900\n707 3900\n708 3900\n709 3900\n710 3900\n711 3900\n"
     ]
    },
    {
     "name": "stdout",
     "output_type": "stream",
     "text": [
      "712 3900\n713 3900\n714 3900\n715 3900\n716 3900\n717 3900\n718 3900\n719 3900\n720 3900\n721 3900\n722 3900\n723 3900\n724 3900\n725 3900\n726 3900\n"
     ]
    },
    {
     "name": "stdout",
     "output_type": "stream",
     "text": [
      "727 3900\n728 3900\n729 3900\n730 3900\n731 3900\n732 3900\n733 3900\n734 3900\n735 3900\n736 3900\n737 3900\n738 3900\n739 3900\n740 3900\n741 3900\n742 3900\n743 3900\n"
     ]
    },
    {
     "name": "stdout",
     "output_type": "stream",
     "text": [
      "744 3900\n745 3900\n746 3900\n747 3900\n748 3900\n749 3900\n750 3900\n751 3900\n752 3900\n753 3900\n754 3900\n755 3900\n756 3900\n757 3900\n758 3900\n759 3900\n760 3900\n"
     ]
    },
    {
     "name": "stdout",
     "output_type": "stream",
     "text": [
      "761 3900\n762 3900\n763 3900\n764 3900\n765 3900\n766 3900\n767 3900\n768 3900\n769 3900\n770 3900\n771 3900\n772 3900\n773 3900\n774 3900\n775 3900\n776 3900\n"
     ]
    },
    {
     "name": "stdout",
     "output_type": "stream",
     "text": [
      "777 3900\n778 3900\n779 3900\n780 3900\n781 3900\n782 3900\n783 3900\n784 3900\n785 3900\n786 3900\n787 3900\n788 3900\n789 3900\n790 3900\n791 3900\n792 3900\n793 3900\n794 3900\n"
     ]
    },
    {
     "name": "stdout",
     "output_type": "stream",
     "text": [
      "795 3900\n796 3900\n797 3900\n798 3900\n799 3900\n800 3900\n801 3900\n802 3900\n803 3900\n804 3900\n805 3900\n806 3900\n807 3900\n808 3900\n809 3900\n810 3900\n811 3900\n"
     ]
    },
    {
     "name": "stdout",
     "output_type": "stream",
     "text": [
      "812 3900\n813 3900\n814 3900\n815 3900\n816 3900\n817 3900\n818 3900\n819 3900\n820 3900\n821 3900\n822 3900\n823 3900\n824 3900\n825 3900\n826 3900\n827 3900\n828 3900\n829 3900\n"
     ]
    },
    {
     "name": "stdout",
     "output_type": "stream",
     "text": [
      "830 3900\n831 3900\n832 3900\n833 3900\n834 3900\n835 3900\n836 3900\n837 3900\n838 3900\n839 3900\n840 3900\n841 3900\n842 3900\n843 3900\n844 3900\n845 3900\n846 3900\n847 3900\n"
     ]
    },
    {
     "name": "stdout",
     "output_type": "stream",
     "text": [
      "848 3900\n849 3900\n850 3900\n851 3900\n852 3900\n853 3900\n854 3900\n855 3900\n856 3900\n857 3900\n858 3900\n859 3900\n860 3900\n861 3900\n862 3900\n863 3900\n864 3900\n865 3900\n"
     ]
    },
    {
     "name": "stdout",
     "output_type": "stream",
     "text": [
      "866 3900\n867 3900\n868 3900\n869 3900\n870 3900\n871 3900\n872 3900\n873 3900\n874 3900\n875 3900\n876 3900\n877 3900\n878 3900\n879 3900\n880 3900\n881 3900\n882 3900\n883 3900\n"
     ]
    },
    {
     "name": "stdout",
     "output_type": "stream",
     "text": [
      "884 3900\n885 3900\n886 3900\n887 3900\n888 3900\n889 3900\n890 3900\n891 3900\n892 3900\n893 3900\n894 3900\n895 3900\n896 3900\n897 3900\n898 3900\n899 3900\n900 3900\n901 3900\n"
     ]
    },
    {
     "name": "stdout",
     "output_type": "stream",
     "text": [
      "902 3900\n903 3900\n904 3900\n905 3900\n906 3900\n907 3900\n908 3900\n909 3900\n910 3900\n911 3900\n912 3900\n913 3900\n914 3900\n915 3900\n916 3900\n917 3900\n918 3900\n919 3900\n"
     ]
    },
    {
     "name": "stdout",
     "output_type": "stream",
     "text": [
      "920 3900\n921 3900\n922 3900\n923 3900\n924 3900\n925 3900\n926 3900\n927 3900\n928 3900\n929 3900\n930 3900\n931 3900\n932 3900\n933 3900\n934 3900\n935 3900\n936 3900\n937 3900\n"
     ]
    },
    {
     "name": "stdout",
     "output_type": "stream",
     "text": [
      "938 3900\n939 3900\n940 3900\n941 3900\n942 3900\n943 3900\n944 3900\n945 3900\n946 3900\n947 3900\n948 3900\n949 3900\n950 3900\n951 3900\n952 3900\n953 3900\n954 3900\n"
     ]
    },
    {
     "name": "stdout",
     "output_type": "stream",
     "text": [
      "955 3900\n956 3900\n957 3900\n958 3900\n959 3900\n960 3900\n961 3900\n962 3900\n963 3900\n964 3900\n965 3900\n966 3900\n967 3900\n968 3900\n969 3900\n970 3900\n971 3900\n"
     ]
    },
    {
     "name": "stdout",
     "output_type": "stream",
     "text": [
      "972 3900\n973 3900\n974 3900\n975 3900\n976 3900\n977 3900\n978 3900\n979 3900\n980 3900\n981 3900\n982 3900\n983 3900\n984 3900\n985 3900\n986 3900\n987 3900\n988 3900\n989 3900\n"
     ]
    },
    {
     "name": "stdout",
     "output_type": "stream",
     "text": [
      "990 3900\n991 3900\n992 3900\n993 3900\n994 3900\n995 3900\n996 3900\n997 3900\n998 3900\n999 3900\n1000 3900\n1001 3900\n1002 3900\n1003 3900\n1004 3900\n1005 3900\n1006 3900\n1007 3900\n"
     ]
    },
    {
     "name": "stdout",
     "output_type": "stream",
     "text": [
      "1008 3900\n1009 3900\n1010 3900\n1011 3900\n1012 3900\n1013 3900\n1014 3900\n1015 3900\n1016 3900\n1017 3900\n1018 3900\n1019 3900\n1020 3900\n1021 3900\n1022 3900\n1023 3900\n1024 3900\n"
     ]
    },
    {
     "name": "stdout",
     "output_type": "stream",
     "text": [
      "1025 3900\n1026 3900\n1027 3900\n1028 3900\n1029 3900\n1030 3900\n1031 3900\n1032 3900\n1033 3900\n1034 3900\n1035 3900\n1036 3900\n1037 3900\n1038 3900\n1039 3900\n1040 3900\n1041 3900\n"
     ]
    },
    {
     "name": "stdout",
     "output_type": "stream",
     "text": [
      "1042 3900\n1043 3900\n1044 3900\n1045 3900\n1046 3900\n1047 3900\n1048 3900\n1049 3900\n1050 3900\n1051 3900\n1052 3900\n1053 3900\n1054 3900\n1055 3900\n1056 3900\n1057 3900\n"
     ]
    },
    {
     "name": "stdout",
     "output_type": "stream",
     "text": [
      "1058 3900\n1059 3900\n1060 3900\n1061 3900\n1062 3900\n1063 3900\n1064 3900\n1065 3900\n1066 3900\n1067 3900\n1068 3900\n1069 3900\n1070 3900\n1071 3900\n1072 3900\n1073 3900\n1074 3900\n"
     ]
    },
    {
     "name": "stdout",
     "output_type": "stream",
     "text": [
      "1075 3900\n1076 3900\n1077 3900\n1078 3900\n1079 3900\n1080 3900\n1081 3900\n1082 3900\n1083 3900\n1084 3900\n1085 3900\n1086 3900\n1087 3900\n1088 3900\n1089 3900\n1090 3900\n"
     ]
    },
    {
     "name": "stdout",
     "output_type": "stream",
     "text": [
      "1091 3900\n1092 3900\n1093 3900\n1094 3900\n1095 3900\n1096 3900\n1097 3900\n1098 3900\n1099 3900\n1100 3900\n1101 3900\n1102 3900\n1103 3900\n1104 3900\n1105 3900\n"
     ]
    },
    {
     "name": "stdout",
     "output_type": "stream",
     "text": [
      "1106 3900\n1107 3900\n1108 3900\n1109 3900\n1110 3900\n1111 3900\n1112 3900\n1113 3900\n1114 3900\n1115 3900\n1116 3900\n1117 3900\n1118 3900\n1119 3900\n1120 3900\n1121 3900\n1122 3900\n"
     ]
    },
    {
     "name": "stdout",
     "output_type": "stream",
     "text": [
      "1123 3900\n1124 3900\n1125 3900\n1126 3900\n1127 3900\n1128 3900\n1129 3900\n1130 3900\n1131 3900\n1132 3900\n1133 3900\n1134 3900\n1135 3900\n1136 3900\n1137 3900\n1138 3900\n1139 3900\n"
     ]
    },
    {
     "name": "stdout",
     "output_type": "stream",
     "text": [
      "1140 3900\n1141 3900\n1142 3900\n1143 3900\n1144 3900\n1145 3900\n1146 3900\n1147 3900\n1148 3900\n1149 3900\n1150 3900\n1151 3900\n1152 3900\n1153 3900\n1154 3900\n1155 3900\n1156 3900\n"
     ]
    },
    {
     "name": "stdout",
     "output_type": "stream",
     "text": [
      "1157 3900\n1158 3900\n1159 3900\n1160 3900\n1161 3900\n1162 3900\n1163 3900\n1164 3900\n1165 3900\n1166 3900\n1167 3900\n1168 3900\n1169 3900\n1170 3900\n1171 3900\n1172 3900\n1173 3900\n1174 3900\n"
     ]
    },
    {
     "name": "stdout",
     "output_type": "stream",
     "text": [
      "1175 3900\n1176 3900\n1177 3900\n1178 3900\n1179 3900\n1180 3900\n1181 3900\n1182 3900\n1183 3900\n1184 3900\n1185 3900\n1186 3900\n1187 3900\n1188 3900\n1189 3900\n1190 3900\n1191 3900\n"
     ]
    },
    {
     "name": "stdout",
     "output_type": "stream",
     "text": [
      "1192 3900\n1193 3900\n1194 3900\n1195 3900\n1196 3900\n1197 3900\n1198 3900\n1199 3900\n1200 3900\n1201 3900\n1202 3900\n1203 3900\n1204 3900\n1205 3900\n1206 3900\n1207 3900\n1208 3900\n"
     ]
    },
    {
     "name": "stdout",
     "output_type": "stream",
     "text": [
      "1209 3900\n1210 3900\n1211 3900\n1212 3900\n1213 3900\n1214 3900\n1215 3900\n1216 3900\n1217 3900\n1218 3900\n1219 3900\n1220 3900\n1221 3900\n1222 3900\n1223 3900\n1224 3900\n1225 3900\n"
     ]
    },
    {
     "name": "stdout",
     "output_type": "stream",
     "text": [
      "1226 3900\n1227 3900\n1228 3900\n1229 3900\n1230 3900\n1231 3900\n1232 3900\n1233 3900\n1234 3900\n1235 3900\n1236 3900\n1237 3900\n1238 3900\n1239 3900\n1240 3900\n1241 3900\n1242 3900\n1243 3900\n"
     ]
    },
    {
     "name": "stdout",
     "output_type": "stream",
     "text": [
      "1244 3900\n1245 3900\n1246 3900\n1247 3900\n1248 3900\n1249 3900\n1250 3900\n1251 3900\n1252 3900\n1253 3900\n1254 3900\n1255 3900\n1256 3900\n1257 3900\n1258 3900\n1259 3900\n1260 3900\n1261 3900\n"
     ]
    },
    {
     "name": "stdout",
     "output_type": "stream",
     "text": [
      "1262 3900\n1263 3900\n1264 3900\n1265 3900\n1266 3900\n1267 3900\n1268 3900\n1269 3900\n1270 3900\n1271 3900\n1272 3900\n1273 3900\n1274 3900\n1275 3900\n1276 3900\n1277 3900\n1278 3900\n"
     ]
    },
    {
     "name": "stdout",
     "output_type": "stream",
     "text": [
      "1279 3900\n1280 3900\n1281 3900\n1282 3900\n1283 3900\n1284 3900\n1285 3900\n1286 3900\n1287 3900\n1288 3900\n1289 3900\n1290 3900\n1291 3900\n1292 3900\n1293 3900\n1294 3900\n1295 3900\n"
     ]
    },
    {
     "name": "stdout",
     "output_type": "stream",
     "text": [
      "1296 3900\n1297 3900\n1298 3900\n1299 3900\n1300 3900\n1301 3900\n1302 3900\n1303 3900\n1304 3900\n1305 3900\n1306 3900\n1307 3900\n1308 3900\n1309 3900\n1310 3900\n1311 3900\n1312 3900\n"
     ]
    },
    {
     "name": "stdout",
     "output_type": "stream",
     "text": [
      "1313 3900\n1314 3900\n1315 3900\n1316 3900\n1317 3900\n1318 3900\n1319 3900\n1320 3900\n1321 3900\n1322 3900\n1323 3900\n1324 3900\n1325 3900\n1326 3900\n1327 3900\n1328 3900\n1329 3900\n"
     ]
    },
    {
     "name": "stdout",
     "output_type": "stream",
     "text": [
      "1330 3900\n1331 3900\n1332 3900\n1333 3900\n1334 3900\n1335 3900\n1336 3900\n1337 3900\n1338 3900\n1339 3900\n1340 3900\n1341 3900\n1342 3900\n1343 3900\n1344 3900\n1345 3900\n1346 3900\n"
     ]
    },
    {
     "name": "stdout",
     "output_type": "stream",
     "text": [
      "1347 3900\n1348 3900\n1349 3900\n1350 3900\n1351 3900\n1352 3900\n1353 3900\n1354 3900\n1355 3900\n1356 3900\n1357 3900\n1358 3900\n1359 3900\n1360 3900\n1361 3900\n1362 3900\n1363 3900\n1364 3900\n"
     ]
    },
    {
     "name": "stdout",
     "output_type": "stream",
     "text": [
      "1365 3900\n1366 3900\n1367 3900\n1368 3900\n1369 3900\n1370 3900\n1371 3900\n1372 3900\n1373 3900\n1374 3900\n1375 3900\n1376 3900\n1377 3900\n1378 3900\n1379 3900\n1380 3900\n1381 3900\n"
     ]
    },
    {
     "name": "stdout",
     "output_type": "stream",
     "text": [
      "1382 3900\n1383 3900\n1384 3900\n1385 3900\n1386 3900\n1387 3900\n1388 3900\n1389 3900\n1390 3900\n1391 3900\n1392 3900\n1393 3900\n1394 3900\n1395 3900\n1396 3900\n"
     ]
    },
    {
     "name": "stdout",
     "output_type": "stream",
     "text": [
      "1397 3900\n1398 3900\n1399 3900\n1400 3900\n1401 3900\n1402 3900\n1403 3900\n1404 3900\n1405 3900\n1406 3900\n1407 3900\n1408 3900\n1409 3900\n1410 3900\n1411 3900\n1412 3900\n"
     ]
    },
    {
     "name": "stdout",
     "output_type": "stream",
     "text": [
      "1413 3900\n1414 3900\n1415 3900\n1416 3900\n1417 3900\n1418 3900\n1419 3900\n1420 3900\n1421 3900\n1422 3900\n1423 3900\n1424 3900\n1425 3900\n1426 3900\n1427 3900\n1428 3900\n"
     ]
    },
    {
     "name": "stdout",
     "output_type": "stream",
     "text": [
      "1429 3900\n1430 3900\n1431 3900\n1432 3900\n1433 3900\n1434 3900\n1435 3900\n1436 3900\n1437 3900\n1438 3900\n1439 3900\n1440 3900\n1441 3900\n1442 3900\n1443 3900\n1444 3900\n1445 3900\n"
     ]
    },
    {
     "name": "stdout",
     "output_type": "stream",
     "text": [
      "1446 3900\n1447 3900\n1448 3900\n1449 3900\n1450 3900\n1451 3900\n1452 3900\n1453 3900\n1454 3900\n1455 3900\n1456 3900\n1457 3900\n1458 3900\n1459 3900\n1460 3900\n1461 3900\n1462 3900\n"
     ]
    },
    {
     "name": "stdout",
     "output_type": "stream",
     "text": [
      "1463 3900\n1464 3900\n1465 3900\n1466 3900\n1467 3900\n1468 3900\n1469 3900\n1470 3900\n1471 3900\n1472 3900\n1473 3900\n1474 3900\n1475 3900\n1476 3900\n1477 3900\n1478 3900\n1479 3900\n"
     ]
    },
    {
     "name": "stdout",
     "output_type": "stream",
     "text": [
      "1480 3900\n1481 3900\n1482 3900\n1483 3900\n1484 3900\n1485 3900\n1486 3900\n1487 3900\n1488 3900\n1489 3900\n1490 3900\n1491 3900\n1492 3900\n1493 3900\n1494 3900\n1495 3900\n1496 3900\n"
     ]
    },
    {
     "name": "stdout",
     "output_type": "stream",
     "text": [
      "1497 3900\n1498 3900\n1499 3900\n1500 3900\n1501 3900\n1502 3900\n1503 3900\n1504 3900\n1505 3900\n1506 3900\n1507 3900\n1508 3900\n1509 3900\n1510 3900\n1511 3900\n1512 3900\n1513 3900\n1514 3900\n"
     ]
    },
    {
     "name": "stdout",
     "output_type": "stream",
     "text": [
      "1515 3900\n1516 3900\n1517 3900\n1518 3900\n1519 3900\n1520 3900\n1521 3900\n1522 3900\n1523 3900\n1524 3900\n1525 3900\n1526 3900\n1527 3900\n1528 3900\n1529 3900\n1530 3900\n1531 3900\n1532 3900\n"
     ]
    },
    {
     "name": "stdout",
     "output_type": "stream",
     "text": [
      "1533 3900\n1534 3900\n1535 3900\n1536 3900\n1537 3900\n1538 3900\n1539 3900\n1540 3900\n1541 3900\n1542 3900\n1543 3900\n1544 3900\n1545 3900\n1546 3900\n1547 3900\n1548 3900\n1549 3900\n"
     ]
    },
    {
     "name": "stdout",
     "output_type": "stream",
     "text": [
      "1550 3900\n1551 3900\n1552 3900\n1553 3900\n1554 3900\n1555 3900\n1556 3900\n1557 3900\n1558 3900\n1559 3900\n1560 3900\n1561 3900\n1562 3900\n1563 3900\n1564 3900\n1565 3900\n1566 3900\n"
     ]
    },
    {
     "name": "stdout",
     "output_type": "stream",
     "text": [
      "1567 3900\n1568 3900\n1569 3900\n1570 3900\n1571 3900\n1572 3900\n1573 3900\n1574 3900\n1575 3900\n1576 3900\n1577 3900\n1578 3900\n1579 3900\n1580 3900\n1581 3900\n1582 3900\n1583 3900\n"
     ]
    },
    {
     "name": "stdout",
     "output_type": "stream",
     "text": [
      "1584 3900\n1585 3900\n1586 3900\n1587 3900\n1588 3900\n1589 3900\n1590 3900\n1591 3900\n1592 3900\n1593 3900\n1594 3900\n1595 3900\n1596 3900\n1597 3900\n1598 3900\n1599 3900\n1600 3900\n"
     ]
    },
    {
     "name": "stdout",
     "output_type": "stream",
     "text": [
      "1601 3900\n1602 3900\n1603 3900\n1604 3900\n1605 3900\n1606 3900\n1607 3900\n1608 3900\n1609 3900\n1610 3900\n1611 3900\n1612 3900\n1613 3900\n1614 3900\n1615 3900\n1616 3900\n1617 3900\n"
     ]
    },
    {
     "name": "stdout",
     "output_type": "stream",
     "text": [
      "1618 3900\n1619 3900\n1620 3900\n1621 3900\n1622 3900\n1623 3900\n1624 3900\n1625 3900\n1626 3900\n1627 3900\n1628 3900\n1629 3900\n1630 3900\n1631 3900\n1632 3900\n1633 3900\n1634 3900\n"
     ]
    },
    {
     "name": "stdout",
     "output_type": "stream",
     "text": [
      "1635 3900\n1636 3900\n1637 3900\n1638 3900\n1639 3900\n1640 3900\n1641 3900\n1642 3900\n1643 3900\n1644 3900\n1645 3900\n1646 3900\n1647 3900\n1648 3900\n1649 3900\n1650 3900\n1651 3900\n"
     ]
    },
    {
     "name": "stdout",
     "output_type": "stream",
     "text": [
      "1652 3900\n1653 3900\n1654 3900\n1655 3900\n1656 3900\n1657 3900\n1658 3900\n1659 3900\n1660 3900\n1661 3900\n1662 3900\n1663 3900\n1664 3900\n1665 3900\n1666 3900\n1667 3900\n1668 3900\n"
     ]
    },
    {
     "name": "stdout",
     "output_type": "stream",
     "text": [
      "1669 3900\n1670 3900\n1671 3900\n1672 3900\n1673 3900\n1674 3900\n1675 3900\n1676 3900\n1677 3900\n1678 3900\n1679 3900\n1680 3900\n1681 3900\n1682 3900\n1683 3900\n1684 3900\n"
     ]
    },
    {
     "name": "stdout",
     "output_type": "stream",
     "text": [
      "1685 3900\n1686 3900\n1687 3900\n1688 3900\n1689 3900\n1690 3900\n1691 3900\n1692 3900\n1693 3900\n1694 3900\n1695 3900\n1696 3900\n1697 3900\n1698 3900\n1699 3900\n1700 3900\n1701 3900\n"
     ]
    },
    {
     "name": "stdout",
     "output_type": "stream",
     "text": [
      "1702 3900\n1703 3900\n1704 3900\n1705 3900\n1706 3900\n1707 3900\n1708 3900\n1709 3900\n1710 3900\n1711 3900\n1712 3900\n1713 3900\n1714 3900\n1715 3900\n1716 3900\n1717 3900\n1718 3900\n"
     ]
    },
    {
     "name": "stdout",
     "output_type": "stream",
     "text": [
      "1719 3900\n1720 3900\n1721 3900\n1722 3900\n1723 3900\n1724 3900\n1725 3900\n1726 3900\n1727 3900\n1728 3900\n1729 3900\n1730 3900\n1731 3900\n1732 3900\n1733 3900\n1734 3900\n1735 3900\n1736 3900\n"
     ]
    },
    {
     "name": "stdout",
     "output_type": "stream",
     "text": [
      "1737 3900\n1738 3900\n1739 3900\n1740 3900\n1741 3900\n1742 3900\n1743 3900\n1744 3900\n1745 3900\n1746 3900\n1747 3900\n1748 3900\n1749 3900\n1750 3900\n1751 3900\n1752 3900\n1753 3900\n1754 3900\n"
     ]
    },
    {
     "name": "stdout",
     "output_type": "stream",
     "text": [
      "1755 3900\n1756 3900\n1757 3900\n1758 3900\n1759 3900\n1760 3900\n1761 3900\n1762 3900\n1763 3900\n1764 3900\n1765 3900\n1766 3900\n1767 3900\n1768 3900\n1769 3900\n1770 3900\n1771 3900\n"
     ]
    },
    {
     "name": "stdout",
     "output_type": "stream",
     "text": [
      "1772 3900\n1773 3900\n1774 3900\n1775 3900\n1776 3900\n1777 3900\n1778 3900\n1779 3900\n1780 3900\n1781 3900\n1782 3900\n1783 3900\n1784 3900\n1785 3900\n1786 3900\n1787 3900\n1788 3900\n"
     ]
    },
    {
     "name": "stdout",
     "output_type": "stream",
     "text": [
      "1789 3900\n1790 3900\n1791 3900\n1792 3900\n1793 3900\n1794 3900\n1795 3900\n1796 3900\n1797 3900\n1798 3900\n1799 3900\n1800 3900\n1801 3900\n1802 3900\n1803 3900\n1804 3900\n1805 3900\n1806 3900\n"
     ]
    },
    {
     "name": "stdout",
     "output_type": "stream",
     "text": [
      "1807 3900\n1808 3900\n1809 3900\n1810 3900\n1811 3900\n1812 3900\n1813 3900\n1814 3900\n1815 3900\n1816 3900\n1817 3900\n1818 3900\n1819 3900\n1820 3900\n1821 3900\n1822 3900\n1823 3900\n1824 3900\n"
     ]
    },
    {
     "name": "stdout",
     "output_type": "stream",
     "text": [
      "1825 3900\n1826 3900\n1827 3900\n1828 3900\n1829 3900\n1830 3900\n1831 3900\n1832 3900\n1833 3900\n1834 3900\n1835 3900\n1836 3900\n1837 3900\n1838 3900\n1839 3900\n1840 3900\n1841 3900\n"
     ]
    },
    {
     "name": "stdout",
     "output_type": "stream",
     "text": [
      "1842 3900\n1843 3900\n1844 3900\n1845 3900\n1846 3900\n1847 3900\n1848 3900\n1849 3900\n1850 3900\n1851 3900\n1852 3900\n1853 3900\n1854 3900\n1855 3900\n1856 3900\n1857 3900\n1858 3900\n"
     ]
    },
    {
     "name": "stdout",
     "output_type": "stream",
     "text": [
      "1859 3900\n1860 3900\n1861 3900\n1862 3900\n1863 3900\n1864 3900\n1865 3900\n1866 3900\n1867 3900\n1868 3900\n1869 3900\n1870 3900\n1871 3900\n1872 3900\n1873 3900\n1874 3900\n1875 3900\n"
     ]
    },
    {
     "name": "stdout",
     "output_type": "stream",
     "text": [
      "1876 3900\n1877 3900\n1878 3900\n1879 3900\n1880 3900\n1881 3900\n1882 3900\n1883 3900\n1884 3900\n1885 3900\n1886 3900\n1887 3900\n1888 3900\n1889 3900\n1890 3900\n1891 3900\n1892 3900\n"
     ]
    },
    {
     "name": "stdout",
     "output_type": "stream",
     "text": [
      "1893 3900\n1894 3900\n1895 3900\n1896 3900\n1897 3900\n1898 3900\n1899 3900\n1900 3900\n1901 3900\n1902 3900\n1903 3900\n1904 3900\n1905 3900\n1906 3900\n1907 3900\n1908 3900\n1909 3900\n1910 3900\n"
     ]
    },
    {
     "name": "stdout",
     "output_type": "stream",
     "text": [
      "1911 3900\n1912 3900\n1913 3900\n1914 3900\n1915 3900\n1916 3900\n1917 3900\n1918 3900\n1919 3900\n1920 3900\n1921 3900\n1922 3900\n1923 3900\n1924 3900\n1925 3900\n1926 3900\n1927 3900\n1928 3900\n"
     ]
    },
    {
     "name": "stdout",
     "output_type": "stream",
     "text": [
      "1929 3900\n1930 3900\n1931 3900\n1932 3900\n1933 3900\n1934 3900\n1935 3900\n1936 3900\n1937 3900\n1938 3900\n1939 3900\n1940 3900\n1941 3900\n1942 3900\n1943 3900\n1944 3900\n1945 3900\n"
     ]
    },
    {
     "name": "stdout",
     "output_type": "stream",
     "text": [
      "1946 3900\n1947 3900\n1948 3900\n1949 3900\n1950 3900\n1951 3900\n1952 3900\n1953 3900\n1954 3900\n1955 3900\n1956 3900\n1957 3900\n1958 3900\n1959 3900\n1960 3900\n1961 3900\n1962 3900\n"
     ]
    },
    {
     "name": "stdout",
     "output_type": "stream",
     "text": [
      "1963 3900\n1964 3900\n1965 3900\n1966 3900\n1967 3900\n1968 3900\n1969 3900\n1970 3900\n1971 3900\n1972 3900\n1973 3900\n1974 3900\n1975 3900\n1976 3900\n1977 3900\n1978 3900\n1979 3900\n"
     ]
    },
    {
     "name": "stdout",
     "output_type": "stream",
     "text": [
      "1980 3900\n1981 3900\n1982 3900\n1983 3900\n1984 3900\n1985 3900\n1986 3900\n1987 3900\n1988 3900\n1989 3900\n1990 3900\n1991 3900\n1992 3900\n1993 3900\n1994 3900\n1995 3900\n1996 3900\n"
     ]
    },
    {
     "name": "stdout",
     "output_type": "stream",
     "text": [
      "1997 3900\n1998 3900\n1999 3900\n2000 3900\n\n \u001b[32mEXECUTED BLOCK AT 18:3:50\u001b[0m\n"
     ]
    }
   ],
   "source": [
    "print(\"Extracting features from non traffic signs...\")\n",
    "\n",
    "i = 0\n",
    "# for img in tqdm(negative_images):\n",
    "for img in negative_images[:2000]:\n",
    "    negative_features.append(extractor.features(img)) \n",
    "    i += 1\n",
    "    print(i, len(negative_images))\n",
    "    \n",
    "print_executed()"
   ]
  },
  {
   "cell_type": "code",
   "execution_count": 62,
   "metadata": {},
   "outputs": [
    {
     "name": "stdout",
     "output_type": "stream",
     "text": [
      "\n \u001b[32mEXECUTED BLOCK AT 18:5:56\u001b[0m\n"
     ]
    }
   ],
   "source": [
    "positive_features = np.asarray(positive_features)\n",
    "negative_features = np.asarray(negative_features)\n",
    "\n",
    "print_executed()"
   ]
  },
  {
   "cell_type": "code",
   "execution_count": 67,
   "metadata": {},
   "outputs": [
    {
     "name": "stdout",
     "output_type": "stream",
     "text": [
      "Scaling features...\n x shape:  (4000, 1188)  y shape:  (4000,)\n\n \u001b[32mEXECUTED BLOCK AT 18:10:45\u001b[0m\n"
     ]
    }
   ],
   "source": [
    "print(\"Scaling features...\")\n",
    "\n",
    "unscaled_x = np.vstack((positive_features, negative_features)).astype(np.float64)\n",
    "scaler = StandardScaler().fit(unscaled_x)\n",
    "x = scaler.transform(unscaled_x)\n",
    "# y = np.hstack((np.ones(total_signs), np.zeros(total_nonsigns)))\n",
    "y = np.hstack((np.ones(2000), np.zeros(2000)))\n",
    "\n",
    "print(\" x shape: \", x.shape, \" y shape: \", y.shape)\n",
    "print_executed()\n"
   ]
  },
  {
   "cell_type": "code",
   "execution_count": 85,
   "metadata": {},
   "outputs": [
    {
     "name": "stdout",
     "output_type": "stream",
     "text": [
      "Training classifier and saving models\nAccuracy:  0.9986\n\n \u001b[32mEXECUTED BLOCK AT 18:29:10\u001b[0m\n"
     ]
    }
   ],
   "source": [
    "print(\"Training classifier and saving models\")\n",
    "\n",
    "x_train, x_test, y_train, y_test = train_test_split(x, y, test_size=0.7, random_state=rand.randint(1, 100))\n",
    "svc = LinearSVC()\n",
    "svc.fit(x_train, y_train)\n",
    "accuracy = svc.score(x_test, y_test)\n",
    "print(\"Accuracy: \", np.round(accuracy, 4))\n",
    "\n",
    "now = datetime.datetime.now()\n",
    "created = str(now.year)+str(now.month)+str(now.day)  # +str(now.hour)+str(now.minute)\n",
    "\n",
    "joblib.dump(svc, './trained_models/SVC_'+created+'.pkl')\n",
    "joblib.dump(scaler, './trained_models/scaler_'+created+'.pkl')\n",
    "\n",
    "\n",
    "print_executed()\n"
   ]
  },
  {
   "cell_type": "code",
   "execution_count": 86,
   "metadata": {},
   "outputs": [
    {
     "name": "stdout",
     "output_type": "stream",
     "text": [
      "[0. 1. 1. 0.]\n[0. 1. 1. 0.]\n"
     ]
    },
    {
     "name": "stderr",
     "output_type": "stream",
     "text": [
      "/anaconda3/lib/python3.6/site-packages/skimage/feature/_hog.py:248: skimage_deprecation: Argument `visualise` is deprecated and will be changed to `visualize` in v0.16\n  'be changed to `visualize` in v0.16', skimage_deprecation)\n/anaconda3/lib/python3.6/site-packages/skimage/feature/_hog.py:248: skimage_deprecation: Argument `visualise` is deprecated and will be changed to `visualize` in v0.16\n  'be changed to `visualize` in v0.16', skimage_deprecation)\n"
     ]
    }
   ],
   "source": [
    "print(\"Test prediction of single ROI\")\n",
    "\n",
    "f1 = extractor.features(negative_images[rand.randint(0, 2000)])\n",
    "f2 = extractor.features(positive_images[rand.randint(0, 2000)])\n",
    "f3 = extractor.features(positive_images[rand.randint(0, 2000)])\n",
    "f4 = extractor.features(negative_images[rand.randint(0, 2000)])\n",
    "\n",
    "fA = scaler.transform([f1, f2, f3, f4])\n",
    "print(svc.predict(fA))\n",
    "\n",
    "\n",
    "f5 = extractor.features(negative_images[rand.randint(2000, total_nonsigns)])\n",
    "f6 = extractor.features(positive_images[rand.randint(2000, total_signs)])\n",
    "f7 = extractor.features(positive_images[rand.randint(2000, total_signs)])\n",
    "f8 = extractor.features(negative_images[rand.randint(2000, total_nonsigns)])\n",
    "\n",
    "fB = scaler.transform([f5, f6, f7, f8])\n",
    "print(svc.predict(fB))\n",
    "\n"
   ]
  },
  {
   "cell_type": "code",
   "execution_count": 99,
   "metadata": {},
   "outputs": [
    {
     "name": "stdout",
     "output_type": "stream",
     "text": [
      "Test prediction of full image\n"
     ]
    },
    {
     "name": "stderr",
     "output_type": "stream",
     "text": [
      "/anaconda3/lib/python3.6/site-packages/skimage/feature/_hog.py:248: skimage_deprecation: Argument `visualise` is deprecated and will be changed to `visualize` in v0.16\n  'be changed to `visualize` in v0.16', skimage_deprecation)\n"
     ]
    },
    {
     "name": "stdout",
     "output_type": "stream",
     "text": [
      "predicion:  0\n"
     ]
    },
    {
     "name": "stderr",
     "output_type": "stream",
     "text": [
      "/anaconda3/lib/python3.6/site-packages/skimage/feature/_hog.py:248: skimage_deprecation: Argument `visualise` is deprecated and will be changed to `visualize` in v0.16\n  'be changed to `visualize` in v0.16', skimage_deprecation)\n"
     ]
    },
    {
     "name": "stdout",
     "output_type": "stream",
     "text": [
      "predicion:  0\n"
     ]
    },
    {
     "name": "stderr",
     "output_type": "stream",
     "text": [
      "/anaconda3/lib/python3.6/site-packages/skimage/feature/_hog.py:248: skimage_deprecation: Argument `visualise` is deprecated and will be changed to `visualize` in v0.16\n  'be changed to `visualize` in v0.16', skimage_deprecation)\n"
     ]
    },
    {
     "name": "stdout",
     "output_type": "stream",
     "text": [
      "predicion:  0\n"
     ]
    },
    {
     "name": "stderr",
     "output_type": "stream",
     "text": [
      "/anaconda3/lib/python3.6/site-packages/skimage/feature/_hog.py:248: skimage_deprecation: Argument `visualise` is deprecated and will be changed to `visualize` in v0.16\n  'be changed to `visualize` in v0.16', skimage_deprecation)\n"
     ]
    },
    {
     "name": "stdout",
     "output_type": "stream",
     "text": [
      "predicion:  0\n"
     ]
    },
    {
     "name": "stderr",
     "output_type": "stream",
     "text": [
      "/anaconda3/lib/python3.6/site-packages/skimage/feature/_hog.py:248: skimage_deprecation: Argument `visualise` is deprecated and will be changed to `visualize` in v0.16\n  'be changed to `visualize` in v0.16', skimage_deprecation)\n"
     ]
    },
    {
     "name": "stdout",
     "output_type": "stream",
     "text": [
      "predicion:  1\n"
     ]
    },
    {
     "name": "stdout",
     "output_type": "stream",
     "text": [
      "\n \u001b[32mEXECUTED BLOCK AT 18:50:58\u001b[0m\n"
     ]
    }
   ],
   "source": [
    "print(\"Test prediction of full image\")\n",
    "\n",
    "test_images = [imageio.imread('./dataset/test_images/test_10.png'), \n",
    "              imageio.imread('./dataset/test_images/test_11.png'),\n",
    "              imageio.imread('./dataset/test_images/test_12.png'),\n",
    "              imageio.imread('./dataset/test_images/test_13.png'),\n",
    "              imageio.imread('./dataset/test_images/test_14.png')]\n",
    "\n",
    "import classifier\n",
    "from helpers import show_images\n",
    "cls = classifier.Classifier(svc, scaler)\n",
    "'''\n",
    "img1 = imageio.imread('./dataset/test_images/test_10.png'),\n",
    "img2 = imageio.imread('./dataset/test_images/test_11.png'),\n",
    "img3 = imageio.imread('./dataset/test_images/test_12.png'),\n",
    "img4 = imageio.imread('./dataset/test_images/test_13.png'),\n",
    "img5 = imageio.imread('./dataset/test_images/test_14.png'),\n",
    "'''\n",
    "\n",
    "for i in test_images:\n",
    "    extractor.new_frame(i)\n",
    "    print(\"predicion: \", cls.predict(extractor.slice(0, 0, 64, 64)), end=\"\\n\")\n",
    "    rgb_img, a_img, b_img, c_img = extractor.visualize()\n",
    "    show_images([rgb_img, a_img, b_img, c_img], per_row=4, per_col=1, W=100, H=30)\n",
    "\n",
    "print_executed()\n"
   ]
  }
 ],
 "metadata": {
  "kernelspec": {
   "display_name": "Python 2",
   "language": "python",
   "name": "python2"
  },
  "language_info": {
   "codemirror_mode": {
    "name": "ipython",
    "version": 2
   },
   "file_extension": ".py",
   "mimetype": "text/x-python",
   "name": "python",
   "nbconvert_exporter": "python",
   "pygments_lexer": "ipython2",
   "version": "2.7.6"
  }
 },
 "nbformat": 4,
 "nbformat_minor": 0
}
